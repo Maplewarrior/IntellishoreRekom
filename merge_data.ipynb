{
 "cells": [
  {
   "cell_type": "code",
   "execution_count": 44,
   "metadata": {},
   "outputs": [],
   "source": [
    "\"\"\"STANDARD PACKAGES\"\"\"\n",
    "\n",
    "import numpy as np\n",
    "import pandas as pd\n",
    "import matplotlib\n",
    "import os\n",
    "import sys\n",
    "from datetime import datetime as dt"
   ]
  },
  {
   "cell_type": "code",
   "execution_count": 7,
   "metadata": {},
   "outputs": [
    {
     "data": {
      "text/plain": [
       "'C:\\\\code\\\\IntellishoreRekom'"
      ]
     },
     "execution_count": 7,
     "metadata": {},
     "output_type": "execute_result"
    }
   ],
   "source": [
    "os.getcwd()"
   ]
  },
  {
   "cell_type": "code",
   "execution_count": 139,
   "metadata": {
    "scrolled": true
   },
   "outputs": [],
   "source": [
    "df_calender = pd.read_csv(\"data\\master_calendar.csv\")\n",
    "df_id = pd.read_csv(\"data\\master_id_density_encoded.csv\")\n",
    "df_planday = pd.read_csv(\"data\\master_planday_shifts_encoded.csv\")\n",
    "df_transactions = pd.read_csv(\"data\\master_transactions.csv\")\n",
    "df_venues = pd.read_csv(\"data\\master_venues_encoded.csv\")\n",
    "df_weather = pd.read_csv(\"data\\master_weather_data.csv\")"
   ]
  },
  {
   "cell_type": "code",
   "execution_count": 146,
   "metadata": {
    "scrolled": true
   },
   "outputs": [],
   "source": [
    "df_calender[\"Date\"] = df_calender[\"Date\"].str.replace(\" \", \"-\")\n",
    "df_calender[\"Date\"] = df_calender[\"Date\"].str.replace(\"Jan\", \"01\")\n",
    "df_calender[\"Date\"] = df_calender[\"Date\"].str.replace(\"Feb\", \"02\")\n",
    "df_calender[\"Date\"] = df_calender[\"Date\"].str.replace(\"Mar\", \"03\")\n",
    "df_calender[\"Date\"] = df_calender[\"Date\"].str.replace(\"Apr\", \"04\")\n",
    "df_calender[\"Date\"] = df_calender[\"Date\"].str.replace(\"May\", \"05\")\n",
    "df_calender[\"Date\"] = df_calender[\"Date\"].str.replace(\"Jun\", \"06\")\n",
    "df_calender[\"Date\"] = df_calender[\"Date\"].str.replace(\"Jul\", \"07\")\n",
    "df_calender[\"Date\"] = df_calender[\"Date\"].str.replace(\"Aug\", \"08\")\n",
    "df_calender[\"Date\"] = df_calender[\"Date\"].str.replace(\"Sep\", \"09\")\n",
    "df_calender[\"Date\"] = df_calender[\"Date\"].str.replace(\"Oct\", \"10\")\n",
    "df_calender[\"Date\"] = df_calender[\"Date\"].str.replace(\"Nov\", \"11\")\n",
    "df_calender[\"Date\"] = df_calender[\"Date\"].str.replace(\"Dec\", \"12\")\n",
    "\n",
    "rekom_date = []\n",
    "for j in range(df_calender.shape[0]):\n",
    "    rekom_date.append(str(df_calender[\"year\"].values[j]) + \"-\" + df_calender[\"Date\"].values[j])\n",
    "\n",
    "df_calender[\"date_rekom\"] = rekom_date"
   ]
  },
  {
   "cell_type": "code",
   "execution_count": 204,
   "metadata": {
    "scrolled": true
   },
   "outputs": [],
   "source": [
    "df_weather[\"datetime\"] = pd.to_datetime(df_weather[\"datetime\"])\n",
    "df_weather[\"datetime\"] = df_weather[\"datetime\"].drop_duplicates()\n",
    "df_transactions[\"transaction_hour\"] = pd.to_datetime(df_transactions[\"transaction_hour\"] )\n",
    "df_transactions[\"date_rekom\"] = pd.to_datetime(df_transactions[\"date_rekom\"] )\n",
    "df_calender[\"date_rekom\"] = pd.to_datetime(df_calender[\"date_rekom\"])\n",
    "\n",
    "df_calender[df_calender[\"date_rekom\"].duplicated() == True]\n",
    "df_calender = df_calender[[\"date_rekom\", \"Holiday Name\"]]\n",
    "df_calender_dummies = pd.get_dummies(df_calender)\n",
    "df_calender_dummies = df_calender_dummies.groupby(\"date_rekom\").sum()\n",
    "\n",
    "#df_calender_dummies[\"date_rekom\"] = df_calender_dummies.index.astype(str)\n",
    "\n",
    "#######################################################\n",
    "# PLAN DAY\n",
    "#######################################################\n",
    "df_planday[\"ShiftApprovedStatus\"] = \"Approved\"\n",
    "df_planday.drop_duplicates(inplace = True)\n",
    "\n",
    "\n",
    "df_plan = df_planday.groupby([\"starthour_rounded\", \"venueName\"]).count()[[\"employeeID\"]]\n",
    "\n",
    "df_plan.reset_index(inplace = True)\n",
    "df_plan[\"starthour_rounded\"] = pd.to_datetime(df_plan[\"starthour_rounded\"]) \n"
   ]
  },
  {
   "cell_type": "code",
   "execution_count": 224,
   "metadata": {},
   "outputs": [],
   "source": [
    "df_planday[\"ShiftApprovedStatus\"] = \"Approved\"\n",
    "df_planday.drop_duplicates(inplace = True)"
   ]
  },
  {
   "cell_type": "code",
   "execution_count": 226,
   "metadata": {},
   "outputs": [
    {
     "data": {
      "text/html": [
       "<div>\n",
       "<style scoped>\n",
       "    .dataframe tbody tr th:only-of-type {\n",
       "        vertical-align: middle;\n",
       "    }\n",
       "\n",
       "    .dataframe tbody tr th {\n",
       "        vertical-align: top;\n",
       "    }\n",
       "\n",
       "    .dataframe thead th {\n",
       "        text-align: right;\n",
       "    }\n",
       "</style>\n",
       "<table border=\"1\" class=\"dataframe\">\n",
       "  <thead>\n",
       "    <tr style=\"text-align: right;\">\n",
       "      <th></th>\n",
       "      <th></th>\n",
       "      <th>employeeID</th>\n",
       "    </tr>\n",
       "    <tr>\n",
       "      <th>starthour_rounded</th>\n",
       "      <th>venueName</th>\n",
       "      <th></th>\n",
       "    </tr>\n",
       "  </thead>\n",
       "  <tbody>\n",
       "    <tr>\n",
       "      <th rowspan=\"3\" valign=\"top\">2019-01-02 10:00:00.000</th>\n",
       "      <th>Venue 12</th>\n",
       "      <td>1</td>\n",
       "    </tr>\n",
       "    <tr>\n",
       "      <th>Venue 15</th>\n",
       "      <td>1</td>\n",
       "    </tr>\n",
       "    <tr>\n",
       "      <th>Venue 4</th>\n",
       "      <td>1</td>\n",
       "    </tr>\n",
       "    <tr>\n",
       "      <th rowspan=\"2\" valign=\"top\">2019-01-02 11:00:00.000</th>\n",
       "      <th>Venue 12</th>\n",
       "      <td>1</td>\n",
       "    </tr>\n",
       "    <tr>\n",
       "      <th>Venue 15</th>\n",
       "      <td>1</td>\n",
       "    </tr>\n",
       "    <tr>\n",
       "      <th>...</th>\n",
       "      <th>...</th>\n",
       "      <td>...</td>\n",
       "    </tr>\n",
       "    <tr>\n",
       "      <th>2022-08-30 23:00:00.000</th>\n",
       "      <th>Venue 32</th>\n",
       "      <td>2</td>\n",
       "    </tr>\n",
       "    <tr>\n",
       "      <th rowspan=\"2\" valign=\"top\">2022-08-31 00:00:00.000</th>\n",
       "      <th>Venue 17</th>\n",
       "      <td>1</td>\n",
       "    </tr>\n",
       "    <tr>\n",
       "      <th>Venue 32</th>\n",
       "      <td>2</td>\n",
       "    </tr>\n",
       "    <tr>\n",
       "      <th rowspan=\"2\" valign=\"top\">2022-08-31 01:00:00.000</th>\n",
       "      <th>Venue 17</th>\n",
       "      <td>1</td>\n",
       "    </tr>\n",
       "    <tr>\n",
       "      <th>Venue 32</th>\n",
       "      <td>2</td>\n",
       "    </tr>\n",
       "  </tbody>\n",
       "</table>\n",
       "<p>242680 rows × 1 columns</p>\n",
       "</div>"
      ],
      "text/plain": [
       "                                   employeeID\n",
       "starthour_rounded       venueName            \n",
       "2019-01-02 10:00:00.000 Venue 12            1\n",
       "                        Venue 15            1\n",
       "                        Venue 4             1\n",
       "2019-01-02 11:00:00.000 Venue 12            1\n",
       "                        Venue 15            1\n",
       "...                                       ...\n",
       "2022-08-30 23:00:00.000 Venue 32            2\n",
       "2022-08-31 00:00:00.000 Venue 17            1\n",
       "                        Venue 32            2\n",
       "2022-08-31 01:00:00.000 Venue 17            1\n",
       "                        Venue 32            2\n",
       "\n",
       "[242680 rows x 1 columns]"
      ]
     },
     "execution_count": 226,
     "metadata": {},
     "output_type": "execute_result"
    }
   ],
   "source": [
    "df_planday_selected = df_planday[['employeeID', 'starthour_rounded', 'venueName']]\n",
    "df_planday_selected[df_planday[['employeeID', 'starthour_rounded', 'venueName']].duplicated() == False]\n",
    "df_planday_selected.groupby(['starthour_rounded', 'venueName']).count()"
   ]
  },
  {
   "cell_type": "code",
   "execution_count": 248,
   "metadata": {
    "scrolled": false
   },
   "outputs": [],
   "source": [
    "df_plan = df_planday.groupby([\"starthour_rounded\", \"venueName\"]).count()[[\"employeeID\"]]\n",
    "\n",
    "df_plan.reset_index(inplace = True)\n",
    "df_plan[\"starthour_rounded\"] = pd.to_datetime(df_plan[\"starthour_rounded\"]) \n"
   ]
  },
  {
   "cell_type": "code",
   "execution_count": 255,
   "metadata": {
    "scrolled": false
   },
   "outputs": [],
   "source": [
    "df = df_transactions.copy()\n",
    "df = df.merge(df_venues, how = \"left\", left_on = \"id_onlinepos\", right_on = \"id_onlinepos\")\n",
    "df = df.merge(df_weather, how = \"left\", left_on = \"transaction_hour\", right_on = \"datetime\")\n",
    "df = df.merge(df_calender_dummies, how = \"left\", left_on = \"date_rekom\", right_on = \"date_rekom\")\n",
    "df = df.merge(df_id, how = \"left\", left_on = \"global_venueName\", right_on = \"venueName\")\n",
    "df = df.merge(df_plan, how = \"left\", left_on = [\"global_venueName\", \"transaction_hour\"], right_on = [\"venueName\", \"starthour_rounded\"])"
   ]
  },
  {
   "cell_type": "code",
   "execution_count": null,
   "metadata": {},
   "outputs": [],
   "source": [
    "df_planday"
   ]
  },
  {
   "cell_type": "code",
   "execution_count": 62,
   "metadata": {},
   "outputs": [
    {
     "data": {
      "text/plain": [
       "(212033, 50)"
      ]
     },
     "execution_count": 62,
     "metadata": {},
     "output_type": "execute_result"
    }
   ],
   "source": [
    "\n",
    "df.shape"
   ]
  },
  {
   "cell_type": "code",
   "execution_count": 64,
   "metadata": {},
   "outputs": [
    {
     "data": {
      "text/plain": [
       "(210756, 43)"
      ]
     },
     "execution_count": 64,
     "metadata": {},
     "output_type": "execute_result"
    }
   ],
   "source": [
    "df.shape"
   ]
  },
  {
   "cell_type": "code",
   "execution_count": null,
   "metadata": {},
   "outputs": [],
   "source": []
  },
  {
   "cell_type": "code",
   "execution_count": null,
   "metadata": {},
   "outputs": [],
   "source": []
  },
  {
   "cell_type": "code",
   "execution_count": 258,
   "metadata": {},
   "outputs": [],
   "source": [
    "def get_data():\n",
    "\n",
    "    #######################################################\n",
    "    # LOAD\n",
    "    #######################################################\n",
    "\n",
    "    df_calender = pd.read_csv(\"data\\master_calendar.csv\")\n",
    "    df_id = pd.read_csv(\"data\\master_id_density_encoded.csv\")\n",
    "    df_planday = pd.read_csv(\"data\\master_planday_shifts_encoded.csv\")\n",
    "    df_transactions = pd.read_csv(\"data\\master_transactions.csv\")\n",
    "    df_venues = pd.read_csv(\"data\\master_venues_encoded.csv\")\n",
    "    df_weather = pd.read_csv(\"data\\master_weather_data.csv\")\n",
    "\n",
    "    #######################################################\n",
    "    # FIX DATA\n",
    "    #######################################################\n",
    "    df_calender[\"Date\"] = df_calender[\"Date\"].str.replace(\" \", \"-\")\n",
    "    df_calender[\"Date\"] = df_calender[\"Date\"].str.replace(\"Jan\", \"01\")\n",
    "    df_calender[\"Date\"] = df_calender[\"Date\"].str.replace(\"Feb\", \"02\")\n",
    "    df_calender[\"Date\"] = df_calender[\"Date\"].str.replace(\"Mar\", \"03\")\n",
    "    df_calender[\"Date\"] = df_calender[\"Date\"].str.replace(\"Apr\", \"04\")\n",
    "    df_calender[\"Date\"] = df_calender[\"Date\"].str.replace(\"May\", \"05\")\n",
    "    df_calender[\"Date\"] = df_calender[\"Date\"].str.replace(\"Jun\", \"06\")\n",
    "    df_calender[\"Date\"] = df_calender[\"Date\"].str.replace(\"Jul\", \"07\")\n",
    "    df_calender[\"Date\"] = df_calender[\"Date\"].str.replace(\"Aug\", \"08\")\n",
    "    df_calender[\"Date\"] = df_calender[\"Date\"].str.replace(\"Sep\", \"09\")\n",
    "    df_calender[\"Date\"] = df_calender[\"Date\"].str.replace(\"Oct\", \"10\")\n",
    "    df_calender[\"Date\"] = df_calender[\"Date\"].str.replace(\"Nov\", \"11\")\n",
    "    df_calender[\"Date\"] = df_calender[\"Date\"].str.replace(\"Dec\", \"12\")\n",
    "\n",
    "    rekom_date = []\n",
    "    for j in range(df_calender.shape[0]):\n",
    "        rekom_date.append(str(df_calender[\"year\"].values[j]) + \"-\" + df_calender[\"Date\"].values[j])\n",
    "\n",
    "    df_calender[\"date_rekom\"] = rekom_date\n",
    "\n",
    "\n",
    "    df_weather[\"datetime\"] = pd.to_datetime(df_weather[\"datetime\"])\n",
    "    df_weather[\"datetime\"] = df_weather[\"datetime\"].drop_duplicates()\n",
    "    df_transactions[\"transaction_hour\"] = pd.to_datetime(df_transactions[\"transaction_hour\"] )\n",
    "    df_transactions[\"date_rekom\"] = pd.to_datetime(df_transactions[\"date_rekom\"] )\n",
    "    df_calender[\"date_rekom\"] = pd.to_datetime(df_calender[\"date_rekom\"])\n",
    "\n",
    "    df_calender[df_calender[\"date_rekom\"].duplicated() == True]\n",
    "    df_calender = df_calender[[\"date_rekom\", \"Holiday Name\"]]\n",
    "    df_calender_dummies = pd.get_dummies(df_calender)\n",
    "    df_calender_dummies = df_calender_dummies.groupby(\"date_rekom\").sum()\n",
    "\n",
    "    #df_calender_dummies[\"date_rekom\"] = df_calender_dummies.index.astype(str)\n",
    "\n",
    "    #######################################################\n",
    "    # PLAN DAY\n",
    "    #######################################################\n",
    "    df_planday[\"ShiftApprovedStatus\"] = \"Approved\"\n",
    "    df_planday.drop_duplicates(inplace = True)\n",
    "\n",
    "\n",
    "    df_plan = df_planday.groupby([\"starthour_rounded\", \"venueName\"]).count()[[\"employeeID\"]]\n",
    "\n",
    "    df_plan.reset_index(inplace = True)\n",
    "    df_plan[\"starthour_rounded\"] = pd.to_datetime(df_plan[\"starthour_rounded\"]) \n",
    "\n",
    "\n",
    "    df_planday[\"ShiftApprovedStatus\"] = \"Approved\"\n",
    "    df_planday.drop_duplicates(inplace = True)\n",
    "\n",
    "\n",
    "    df_planday_selected = df_planday[['employeeID', 'starthour_rounded', 'venueName']]\n",
    "    df_planday_selected[df_planday[['employeeID', 'starthour_rounded', 'venueName']].duplicated() == False]\n",
    "    df_planday_selected.groupby(['starthour_rounded', 'venueName']).count()\n",
    "\n",
    "\n",
    "    #######################################################\n",
    "    # MERGE\n",
    "    #######################################################\n",
    "\n",
    "\n",
    "    df = df_transactions.copy()\n",
    "    df = df.merge(df_venues, how = \"left\", left_on = \"id_onlinepos\", right_on = \"id_onlinepos\")\n",
    "    df = df.merge(df_weather, how = \"left\", left_on = \"transaction_hour\", right_on = \"datetime\")\n",
    "    df = df.merge(df_calender_dummies, how = \"left\", left_on = \"date_rekom\", right_on = \"date_rekom\")\n",
    "    df = df.merge(df_id, how = \"left\", left_on = \"global_venueName\", right_on = \"venueName\")\n",
    "    df = df.merge(df_plan, how = \"left\", left_on = [\"global_venueName\", \"transaction_hour\"], right_on = [\"venueName\", \"starthour_rounded\"])\n",
    "    \n",
    "    return df"
   ]
  },
  {
   "cell_type": "code",
   "execution_count": null,
   "metadata": {},
   "outputs": [],
   "source": []
  },
  {
   "cell_type": "code",
   "execution_count": null,
   "metadata": {},
   "outputs": [],
   "source": []
  },
  {
   "cell_type": "code",
   "execution_count": null,
   "metadata": {},
   "outputs": [],
   "source": []
  },
  {
   "cell_type": "code",
   "execution_count": null,
   "metadata": {},
   "outputs": [],
   "source": []
  },
  {
   "cell_type": "code",
   "execution_count": null,
   "metadata": {},
   "outputs": [],
   "source": []
  },
  {
   "cell_type": "code",
   "execution_count": null,
   "metadata": {},
   "outputs": [],
   "source": []
  },
  {
   "cell_type": "code",
   "execution_count": null,
   "metadata": {},
   "outputs": [],
   "source": []
  }
 ],
 "metadata": {
  "kernelspec": {
   "display_name": "Python 3",
   "language": "python",
   "name": "python3"
  },
  "language_info": {
   "codemirror_mode": {
    "name": "ipython",
    "version": 3
   },
   "file_extension": ".py",
   "mimetype": "text/x-python",
   "name": "python",
   "nbconvert_exporter": "python",
   "pygments_lexer": "ipython3",
   "version": "3.8.10"
  }
 },
 "nbformat": 4,
 "nbformat_minor": 1
}