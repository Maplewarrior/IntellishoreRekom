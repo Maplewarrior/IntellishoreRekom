{
 "cells": [
  {
   "cell_type": "code",
   "execution_count": 1,
   "id": "ff1791eb",
   "metadata": {},
   "outputs": [],
   "source": [
    "# Data handling and loading\n",
    "import numpy as np\n",
    "import pandas as pd\n",
    "#import datatable as dt\n",
    "from datetime import datetime, timedelta # To calculate year difference\n",
    "#from sklearn.impute import SimpleImputer\n",
    "from sklearn.preprocessing import OneHotEncoder\n",
    "from meteostat import Point, Daily, Stations # Weather\n",
    "\n",
    "# Visualization\n",
    "import seaborn as sns\n",
    "import matplotlib.pyplot as plt\n",
    "\n",
    "# Modelling\n",
    "#from sklearn.ensemble import RandomForestClassifier\n",
    "from sklearn.metrics import mean_squared_error, r2_score\n",
    "#from sklearn.model_selection import train_test_split, cross_validate, RandomizedSearchCV, GridSearchCV, cross_val_score\n",
    "#from xgboost import XGBClassifier\n",
    "#from sklearn.linear_model import LogisticRegression\n",
    "import time\n",
    "# import shap\n",
    "# from mlxtend.classifier import StackingCVClassifier # ensemble\n",
    "\n",
    "# warninghandler\n",
    "import warnings\n",
    "\n",
    "from data.base import get_data, get_test_data"
   ]
  },
  {
   "cell_type": "code",
   "execution_count": 2,
   "id": "a8003f01",
   "metadata": {},
   "outputs": [
    {
     "name": "stderr",
     "output_type": "stream",
     "text": [
      "SettingWithCopyWarning: \n",
      "A value is trying to be set on a copy of a slice from a DataFrame.\n",
      "Try using .loc[row_indexer,col_indexer] = value instead\n",
      "\n",
      "See the caveats in the documentation: https://pandas.pydata.org/pandas-docs/stable/user_guide/indexing.html#returning-a-view-versus-a-copy\n",
      "SettingWithCopyWarning: \n",
      "A value is trying to be set on a copy of a slice from a DataFrame.\n",
      "Try using .loc[row_indexer,col_indexer] = value instead\n",
      "\n",
      "See the caveats in the documentation: https://pandas.pydata.org/pandas-docs/stable/user_guide/indexing.html#returning-a-view-versus-a-copy\n",
      "SettingWithCopyWarning: \n",
      "A value is trying to be set on a copy of a slice from a DataFrame.\n",
      "Try using .loc[row_indexer,col_indexer] = value instead\n",
      "\n",
      "See the caveats in the documentation: https://pandas.pydata.org/pandas-docs/stable/user_guide/indexing.html#returning-a-view-versus-a-copy\n",
      "SettingWithCopyWarning: \n",
      "A value is trying to be set on a copy of a slice from a DataFrame.\n",
      "Try using .loc[row_indexer,col_indexer] = value instead\n",
      "\n",
      "See the caveats in the documentation: https://pandas.pydata.org/pandas-docs/stable/user_guide/indexing.html#returning-a-view-versus-a-copy\n",
      "SettingWithCopyWarning: \n",
      "A value is trying to be set on a copy of a slice from a DataFrame.\n",
      "Try using .loc[row_indexer,col_indexer] = value instead\n",
      "\n",
      "See the caveats in the documentation: https://pandas.pydata.org/pandas-docs/stable/user_guide/indexing.html#returning-a-view-versus-a-copy\n",
      "SettingWithCopyWarning: \n",
      "A value is trying to be set on a copy of a slice from a DataFrame\n",
      "\n",
      "See the caveats in the documentation: https://pandas.pydata.org/pandas-docs/stable/user_guide/indexing.html#returning-a-view-versus-a-copy\n",
      "SettingWithCopyWarning: \n",
      "A value is trying to be set on a copy of a slice from a DataFrame.\n",
      "Try using .loc[row_indexer,col_indexer] = value instead\n",
      "\n",
      "See the caveats in the documentation: https://pandas.pydata.org/pandas-docs/stable/user_guide/indexing.html#returning-a-view-versus-a-copy\n",
      "SettingWithCopyWarning: \n",
      "A value is trying to be set on a copy of a slice from a DataFrame.\n",
      "Try using .loc[row_indexer,col_indexer] = value instead\n",
      "\n",
      "See the caveats in the documentation: https://pandas.pydata.org/pandas-docs/stable/user_guide/indexing.html#returning-a-view-versus-a-copy\n",
      "SettingWithCopyWarning: \n",
      "A value is trying to be set on a copy of a slice from a DataFrame.\n",
      "Try using .loc[row_indexer,col_indexer] = value instead\n",
      "\n",
      "See the caveats in the documentation: https://pandas.pydata.org/pandas-docs/stable/user_guide/indexing.html#returning-a-view-versus-a-copy\n",
      "SettingWithCopyWarning: \n",
      "A value is trying to be set on a copy of a slice from a DataFrame.\n",
      "Try using .loc[row_indexer,col_indexer] = value instead\n",
      "\n",
      "See the caveats in the documentation: https://pandas.pydata.org/pandas-docs/stable/user_guide/indexing.html#returning-a-view-versus-a-copy\n",
      "SettingWithCopyWarning: \n",
      "A value is trying to be set on a copy of a slice from a DataFrame.\n",
      "Try using .loc[row_indexer,col_indexer] = value instead\n",
      "\n",
      "See the caveats in the documentation: https://pandas.pydata.org/pandas-docs/stable/user_guide/indexing.html#returning-a-view-versus-a-copy\n",
      "SettingWithCopyWarning: \n",
      "A value is trying to be set on a copy of a slice from a DataFrame\n",
      "\n",
      "See the caveats in the documentation: https://pandas.pydata.org/pandas-docs/stable/user_guide/indexing.html#returning-a-view-versus-a-copy\n"
     ]
    }
   ],
   "source": [
    "data = get_data()\n",
    "test_data = get_test_data()"
   ]
  },
  {
   "cell_type": "code",
   "execution_count": 3,
   "id": "48b7ba72",
   "metadata": {},
   "outputs": [
    {
     "data": {
      "text/html": [
       "<div>\n",
       "<style scoped>\n",
       "    .dataframe tbody tr th:only-of-type {\n",
       "        vertical-align: middle;\n",
       "    }\n",
       "\n",
       "    .dataframe tbody tr th {\n",
       "        vertical-align: top;\n",
       "    }\n",
       "\n",
       "    .dataframe thead th {\n",
       "        text-align: right;\n",
       "    }\n",
       "</style>\n",
       "<table border=\"1\" class=\"dataframe\">\n",
       "  <thead>\n",
       "    <tr style=\"text-align: right;\">\n",
       "      <th></th>\n",
       "      <th>transactionLocal_VAT_beforeDiscount</th>\n",
       "      <th>hour</th>\n",
       "      <th>zip_code</th>\n",
       "      <th>temp</th>\n",
       "      <th>feelslike</th>\n",
       "      <th>precip</th>\n",
       "      <th>precipprob</th>\n",
       "      <th>cloudcover</th>\n",
       "      <th>solarradiation</th>\n",
       "      <th>Holiday Name_Ascension Day</th>\n",
       "      <th>...</th>\n",
       "      <th>week_53</th>\n",
       "      <th>week_6</th>\n",
       "      <th>week_7</th>\n",
       "      <th>week_8</th>\n",
       "      <th>week_9</th>\n",
       "      <th>year_2018</th>\n",
       "      <th>year_2019</th>\n",
       "      <th>year_2020</th>\n",
       "      <th>year_2021</th>\n",
       "      <th>year_2022</th>\n",
       "    </tr>\n",
       "    <tr>\n",
       "      <th>transaction_hour</th>\n",
       "      <th></th>\n",
       "      <th></th>\n",
       "      <th></th>\n",
       "      <th></th>\n",
       "      <th></th>\n",
       "      <th></th>\n",
       "      <th></th>\n",
       "      <th></th>\n",
       "      <th></th>\n",
       "      <th></th>\n",
       "      <th></th>\n",
       "      <th></th>\n",
       "      <th></th>\n",
       "      <th></th>\n",
       "      <th></th>\n",
       "      <th></th>\n",
       "      <th></th>\n",
       "      <th></th>\n",
       "      <th></th>\n",
       "      <th></th>\n",
       "      <th></th>\n",
       "    </tr>\n",
       "  </thead>\n",
       "  <tbody>\n",
       "    <tr>\n",
       "      <th>2019-01-01 01:00:00</th>\n",
       "      <td>37912.48</td>\n",
       "      <td>1</td>\n",
       "      <td>1456</td>\n",
       "      <td>7.5</td>\n",
       "      <td>3.2</td>\n",
       "      <td>0.16</td>\n",
       "      <td>100.0</td>\n",
       "      <td>94.5</td>\n",
       "      <td>0.0</td>\n",
       "      <td>0.0</td>\n",
       "      <td>...</td>\n",
       "      <td>0</td>\n",
       "      <td>0</td>\n",
       "      <td>0</td>\n",
       "      <td>0</td>\n",
       "      <td>0</td>\n",
       "      <td>1</td>\n",
       "      <td>0</td>\n",
       "      <td>0</td>\n",
       "      <td>0</td>\n",
       "      <td>0</td>\n",
       "    </tr>\n",
       "    <tr>\n",
       "      <th>2019-01-01 01:00:00</th>\n",
       "      <td>5832.01</td>\n",
       "      <td>1</td>\n",
       "      <td>1123</td>\n",
       "      <td>7.5</td>\n",
       "      <td>3.2</td>\n",
       "      <td>0.16</td>\n",
       "      <td>100.0</td>\n",
       "      <td>94.5</td>\n",
       "      <td>0.0</td>\n",
       "      <td>0.0</td>\n",
       "      <td>...</td>\n",
       "      <td>0</td>\n",
       "      <td>0</td>\n",
       "      <td>0</td>\n",
       "      <td>0</td>\n",
       "      <td>0</td>\n",
       "      <td>1</td>\n",
       "      <td>0</td>\n",
       "      <td>0</td>\n",
       "      <td>0</td>\n",
       "      <td>0</td>\n",
       "    </tr>\n",
       "    <tr>\n",
       "      <th>2019-01-01 01:00:00</th>\n",
       "      <td>37317.00</td>\n",
       "      <td>1</td>\n",
       "      <td>1456</td>\n",
       "      <td>7.5</td>\n",
       "      <td>3.2</td>\n",
       "      <td>0.16</td>\n",
       "      <td>100.0</td>\n",
       "      <td>94.5</td>\n",
       "      <td>0.0</td>\n",
       "      <td>0.0</td>\n",
       "      <td>...</td>\n",
       "      <td>0</td>\n",
       "      <td>0</td>\n",
       "      <td>0</td>\n",
       "      <td>0</td>\n",
       "      <td>0</td>\n",
       "      <td>1</td>\n",
       "      <td>0</td>\n",
       "      <td>0</td>\n",
       "      <td>0</td>\n",
       "      <td>0</td>\n",
       "    </tr>\n",
       "    <tr>\n",
       "      <th>2019-01-01 01:00:00</th>\n",
       "      <td>3610.39</td>\n",
       "      <td>1</td>\n",
       "      <td>1165</td>\n",
       "      <td>7.5</td>\n",
       "      <td>3.2</td>\n",
       "      <td>0.16</td>\n",
       "      <td>100.0</td>\n",
       "      <td>94.5</td>\n",
       "      <td>0.0</td>\n",
       "      <td>0.0</td>\n",
       "      <td>...</td>\n",
       "      <td>0</td>\n",
       "      <td>0</td>\n",
       "      <td>0</td>\n",
       "      <td>0</td>\n",
       "      <td>0</td>\n",
       "      <td>1</td>\n",
       "      <td>0</td>\n",
       "      <td>0</td>\n",
       "      <td>0</td>\n",
       "      <td>0</td>\n",
       "    </tr>\n",
       "    <tr>\n",
       "      <th>2019-01-01 01:00:00</th>\n",
       "      <td>1734.50</td>\n",
       "      <td>1</td>\n",
       "      <td>1456</td>\n",
       "      <td>7.5</td>\n",
       "      <td>3.2</td>\n",
       "      <td>0.16</td>\n",
       "      <td>100.0</td>\n",
       "      <td>94.5</td>\n",
       "      <td>0.0</td>\n",
       "      <td>0.0</td>\n",
       "      <td>...</td>\n",
       "      <td>0</td>\n",
       "      <td>0</td>\n",
       "      <td>0</td>\n",
       "      <td>0</td>\n",
       "      <td>0</td>\n",
       "      <td>1</td>\n",
       "      <td>0</td>\n",
       "      <td>0</td>\n",
       "      <td>0</td>\n",
       "      <td>0</td>\n",
       "    </tr>\n",
       "    <tr>\n",
       "      <th>...</th>\n",
       "      <td>...</td>\n",
       "      <td>...</td>\n",
       "      <td>...</td>\n",
       "      <td>...</td>\n",
       "      <td>...</td>\n",
       "      <td>...</td>\n",
       "      <td>...</td>\n",
       "      <td>...</td>\n",
       "      <td>...</td>\n",
       "      <td>...</td>\n",
       "      <td>...</td>\n",
       "      <td>...</td>\n",
       "      <td>...</td>\n",
       "      <td>...</td>\n",
       "      <td>...</td>\n",
       "      <td>...</td>\n",
       "      <td>...</td>\n",
       "      <td>...</td>\n",
       "      <td>...</td>\n",
       "      <td>...</td>\n",
       "      <td>...</td>\n",
       "    </tr>\n",
       "    <tr>\n",
       "      <th>2022-05-20 05:00:00</th>\n",
       "      <td>1128.00</td>\n",
       "      <td>5</td>\n",
       "      <td>1117</td>\n",
       "      <td>11.8</td>\n",
       "      <td>11.8</td>\n",
       "      <td>0.00</td>\n",
       "      <td>0.0</td>\n",
       "      <td>88.9</td>\n",
       "      <td>0.0</td>\n",
       "      <td>0.0</td>\n",
       "      <td>...</td>\n",
       "      <td>0</td>\n",
       "      <td>0</td>\n",
       "      <td>0</td>\n",
       "      <td>0</td>\n",
       "      <td>0</td>\n",
       "      <td>0</td>\n",
       "      <td>0</td>\n",
       "      <td>0</td>\n",
       "      <td>0</td>\n",
       "      <td>1</td>\n",
       "    </tr>\n",
       "    <tr>\n",
       "      <th>2022-05-20 05:00:00</th>\n",
       "      <td>-11500.00</td>\n",
       "      <td>5</td>\n",
       "      <td>1159</td>\n",
       "      <td>11.8</td>\n",
       "      <td>11.8</td>\n",
       "      <td>0.00</td>\n",
       "      <td>0.0</td>\n",
       "      <td>88.9</td>\n",
       "      <td>0.0</td>\n",
       "      <td>0.0</td>\n",
       "      <td>...</td>\n",
       "      <td>0</td>\n",
       "      <td>0</td>\n",
       "      <td>0</td>\n",
       "      <td>0</td>\n",
       "      <td>0</td>\n",
       "      <td>0</td>\n",
       "      <td>0</td>\n",
       "      <td>0</td>\n",
       "      <td>0</td>\n",
       "      <td>1</td>\n",
       "    </tr>\n",
       "    <tr>\n",
       "      <th>2022-05-20 05:00:00</th>\n",
       "      <td>0.00</td>\n",
       "      <td>5</td>\n",
       "      <td>1165</td>\n",
       "      <td>11.8</td>\n",
       "      <td>11.8</td>\n",
       "      <td>0.00</td>\n",
       "      <td>0.0</td>\n",
       "      <td>88.9</td>\n",
       "      <td>0.0</td>\n",
       "      <td>0.0</td>\n",
       "      <td>...</td>\n",
       "      <td>0</td>\n",
       "      <td>0</td>\n",
       "      <td>0</td>\n",
       "      <td>0</td>\n",
       "      <td>0</td>\n",
       "      <td>0</td>\n",
       "      <td>0</td>\n",
       "      <td>0</td>\n",
       "      <td>0</td>\n",
       "      <td>1</td>\n",
       "    </tr>\n",
       "    <tr>\n",
       "      <th>2022-05-20 05:00:00</th>\n",
       "      <td>0.00</td>\n",
       "      <td>5</td>\n",
       "      <td>1170</td>\n",
       "      <td>11.8</td>\n",
       "      <td>11.8</td>\n",
       "      <td>0.00</td>\n",
       "      <td>0.0</td>\n",
       "      <td>88.9</td>\n",
       "      <td>0.0</td>\n",
       "      <td>0.0</td>\n",
       "      <td>...</td>\n",
       "      <td>0</td>\n",
       "      <td>0</td>\n",
       "      <td>0</td>\n",
       "      <td>0</td>\n",
       "      <td>0</td>\n",
       "      <td>0</td>\n",
       "      <td>0</td>\n",
       "      <td>0</td>\n",
       "      <td>0</td>\n",
       "      <td>1</td>\n",
       "    </tr>\n",
       "    <tr>\n",
       "      <th>2022-05-20 06:00:00</th>\n",
       "      <td>-180.00</td>\n",
       "      <td>6</td>\n",
       "      <td>1117</td>\n",
       "      <td>14.0</td>\n",
       "      <td>14.0</td>\n",
       "      <td>0.00</td>\n",
       "      <td>0.0</td>\n",
       "      <td>88.0</td>\n",
       "      <td>11.0</td>\n",
       "      <td>0.0</td>\n",
       "      <td>...</td>\n",
       "      <td>0</td>\n",
       "      <td>0</td>\n",
       "      <td>0</td>\n",
       "      <td>0</td>\n",
       "      <td>0</td>\n",
       "      <td>0</td>\n",
       "      <td>0</td>\n",
       "      <td>0</td>\n",
       "      <td>0</td>\n",
       "      <td>1</td>\n",
       "    </tr>\n",
       "  </tbody>\n",
       "</table>\n",
       "<p>178881 rows × 228 columns</p>\n",
       "</div>"
      ],
      "text/plain": [
       "                     transactionLocal_VAT_beforeDiscount  hour  zip_code  \\\n",
       "transaction_hour                                                           \n",
       "2019-01-01 01:00:00                             37912.48     1      1456   \n",
       "2019-01-01 01:00:00                              5832.01     1      1123   \n",
       "2019-01-01 01:00:00                             37317.00     1      1456   \n",
       "2019-01-01 01:00:00                              3610.39     1      1165   \n",
       "2019-01-01 01:00:00                              1734.50     1      1456   \n",
       "...                                                  ...   ...       ...   \n",
       "2022-05-20 05:00:00                              1128.00     5      1117   \n",
       "2022-05-20 05:00:00                            -11500.00     5      1159   \n",
       "2022-05-20 05:00:00                                 0.00     5      1165   \n",
       "2022-05-20 05:00:00                                 0.00     5      1170   \n",
       "2022-05-20 06:00:00                              -180.00     6      1117   \n",
       "\n",
       "                     temp  feelslike  precip  precipprob  cloudcover  \\\n",
       "transaction_hour                                                       \n",
       "2019-01-01 01:00:00   7.5        3.2    0.16       100.0        94.5   \n",
       "2019-01-01 01:00:00   7.5        3.2    0.16       100.0        94.5   \n",
       "2019-01-01 01:00:00   7.5        3.2    0.16       100.0        94.5   \n",
       "2019-01-01 01:00:00   7.5        3.2    0.16       100.0        94.5   \n",
       "2019-01-01 01:00:00   7.5        3.2    0.16       100.0        94.5   \n",
       "...                   ...        ...     ...         ...         ...   \n",
       "2022-05-20 05:00:00  11.8       11.8    0.00         0.0        88.9   \n",
       "2022-05-20 05:00:00  11.8       11.8    0.00         0.0        88.9   \n",
       "2022-05-20 05:00:00  11.8       11.8    0.00         0.0        88.9   \n",
       "2022-05-20 05:00:00  11.8       11.8    0.00         0.0        88.9   \n",
       "2022-05-20 06:00:00  14.0       14.0    0.00         0.0        88.0   \n",
       "\n",
       "                     solarradiation  Holiday Name_Ascension Day  ...  week_53  \\\n",
       "transaction_hour                                                 ...            \n",
       "2019-01-01 01:00:00             0.0                         0.0  ...        0   \n",
       "2019-01-01 01:00:00             0.0                         0.0  ...        0   \n",
       "2019-01-01 01:00:00             0.0                         0.0  ...        0   \n",
       "2019-01-01 01:00:00             0.0                         0.0  ...        0   \n",
       "2019-01-01 01:00:00             0.0                         0.0  ...        0   \n",
       "...                             ...                         ...  ...      ...   \n",
       "2022-05-20 05:00:00             0.0                         0.0  ...        0   \n",
       "2022-05-20 05:00:00             0.0                         0.0  ...        0   \n",
       "2022-05-20 05:00:00             0.0                         0.0  ...        0   \n",
       "2022-05-20 05:00:00             0.0                         0.0  ...        0   \n",
       "2022-05-20 06:00:00            11.0                         0.0  ...        0   \n",
       "\n",
       "                     week_6  week_7  week_8  week_9  year_2018  year_2019  \\\n",
       "transaction_hour                                                            \n",
       "2019-01-01 01:00:00       0       0       0       0          1          0   \n",
       "2019-01-01 01:00:00       0       0       0       0          1          0   \n",
       "2019-01-01 01:00:00       0       0       0       0          1          0   \n",
       "2019-01-01 01:00:00       0       0       0       0          1          0   \n",
       "2019-01-01 01:00:00       0       0       0       0          1          0   \n",
       "...                     ...     ...     ...     ...        ...        ...   \n",
       "2022-05-20 05:00:00       0       0       0       0          0          0   \n",
       "2022-05-20 05:00:00       0       0       0       0          0          0   \n",
       "2022-05-20 05:00:00       0       0       0       0          0          0   \n",
       "2022-05-20 05:00:00       0       0       0       0          0          0   \n",
       "2022-05-20 06:00:00       0       0       0       0          0          0   \n",
       "\n",
       "                     year_2020  year_2021  year_2022  \n",
       "transaction_hour                                      \n",
       "2019-01-01 01:00:00          0          0          0  \n",
       "2019-01-01 01:00:00          0          0          0  \n",
       "2019-01-01 01:00:00          0          0          0  \n",
       "2019-01-01 01:00:00          0          0          0  \n",
       "2019-01-01 01:00:00          0          0          0  \n",
       "...                        ...        ...        ...  \n",
       "2022-05-20 05:00:00          0          0          1  \n",
       "2022-05-20 05:00:00          0          0          1  \n",
       "2022-05-20 05:00:00          0          0          1  \n",
       "2022-05-20 05:00:00          0          0          1  \n",
       "2022-05-20 06:00:00          0          0          1  \n",
       "\n",
       "[178881 rows x 228 columns]"
      ]
     },
     "execution_count": 3,
     "metadata": {},
     "output_type": "execute_result"
    }
   ],
   "source": [
    "data"
   ]
  },
  {
   "cell_type": "code",
   "execution_count": 4,
   "id": "56a1b548",
   "metadata": {},
   "outputs": [
    {
     "data": {
      "text/plain": [
       "transactionLocal_VAT_beforeDiscount    0\n",
       "hour                                   0\n",
       "zip_code                               0\n",
       "temp                                   0\n",
       "feelslike                              0\n",
       "                                      ..\n",
       "year_2018                              0\n",
       "year_2019                              0\n",
       "year_2020                              0\n",
       "year_2021                              0\n",
       "year_2022                              0\n",
       "Length: 228, dtype: int64"
      ]
     },
     "execution_count": 4,
     "metadata": {},
     "output_type": "execute_result"
    }
   ],
   "source": [
    "data.isnull().sum()"
   ]
  },
  {
   "cell_type": "code",
   "execution_count": 36,
   "id": "46f5fe23",
   "metadata": {},
   "outputs": [],
   "source": [
    "master_weather_data['datetime'] = pd.to_datetime(master_weather_data['datetime'])"
   ]
  },
  {
   "cell_type": "code",
   "execution_count": 37,
   "id": "f2dfbc04",
   "metadata": {},
   "outputs": [],
   "source": [
    "master_transactions['transaction_hour'] = pd.to_datetime(master_transactions['transaction_hour'])"
   ]
  },
  {
   "cell_type": "code",
   "execution_count": 42,
   "id": "303da11c",
   "metadata": {},
   "outputs": [
    {
     "data": {
      "text/plain": [
       "<AxesSubplot:xlabel='date_rekom'>"
      ]
     },
     "execution_count": 42,
     "metadata": {},
     "output_type": "execute_result"
    },
    {
     "data": {
      "image/png": "[encoded data removed]",
      "text/plain": [
       "<Figure size 576x576 with 1 Axes>"
      ]
     },
     "metadata": {},
     "output_type": "display_data"
    }
   ],
   "source": [
    "sns.set(font_scale = 0.6)\n",
    "plt.figure(figsize = (8, 8))\n",
    "master_transactions.groupby(['date_rekom'])['transactionLocal_VAT_beforeDiscount'].sum().plot()"
   ]
  },
  {
   "cell_type": "markdown",
   "id": "e924423e",
   "metadata": {},
   "source": [
    "# Modeling"
   ]
  },
  {
   "cell_type": "code",
   "execution_count": null,
   "id": "ac0e3e11",
   "metadata": {},
   "outputs": [],
   "source": []
  },
  {
   "cell_type": "code",
   "execution_count": 145,
   "id": "bbffaf83",
   "metadata": {},
   "outputs": [],
   "source": [
    "split = int(len(data) * 0.8)\n",
    "#data = pd.get_dummies(data)\n",
    "train_encoded = data#pd.get_dummies(data)\n",
    "train_encoded = train_encoded[train_encoded[\"transactionLocal_VAT_beforeDiscount\"] < 500000]\n",
    "train_encoded = train_encoded[train_encoded[\"transactionLocal_VAT_beforeDiscount\"] > 0]\n",
    "train_y = train_encoded['transactionLocal_VAT_beforeDiscount'][:split]\n",
    "train_x = train_encoded[:split].drop(['transactionLocal_VAT_beforeDiscount'], axis = 1)\n",
    "val_y = train_encoded['transactionLocal_VAT_beforeDiscount'][split:]\n",
    "val_x = train_encoded[split:].drop(['transactionLocal_VAT_beforeDiscount'], axis = 1)"
   ]
  },
  {
   "cell_type": "markdown",
   "id": "ceae0c27",
   "metadata": {},
   "source": [
    "# XGBoost"
   ]
  },
  {
   "cell_type": "code",
   "execution_count": 146,
   "id": "d7f18ede",
   "metadata": {
    "scrolled": true
   },
   "outputs": [
    {
     "name": "stderr",
     "output_type": "stream",
     "text": [
      "UserWarning: `eval_metric` in `fit` method is deprecated for better compatibility with scikit-learn, use `eval_metric` in constructor or`set_params` instead.\n"
     ]
    }
   ],
   "source": [
    "from xgboost import XGBRegressor\n",
    "model = XGBRegressor(use_label_encoder=False)\n",
    "\n",
    "train_y = train_encoded['transactionLocal_VAT_beforeDiscount']\n",
    "train_x = train_encoded.drop(['transactionLocal_VAT_beforeDiscount'], axis = 1)\n",
    "model.fit(train_x, train_y, eval_metric = \"rmse\")\n",
    "pred_xgb = model.predict(train_x)"
   ]
  },
  {
   "cell_type": "code",
   "execution_count": 149,
   "id": "492bc5c3",
   "metadata": {},
   "outputs": [
    {
     "name": "stdout",
     "output_type": "stream",
     "text": [
      "MSE:  3960.915119632068\n",
      "R^2:  0.647287955365766\n"
     ]
    }
   ],
   "source": [
    "MSE = mean_squared_error(pred_xgb, train_y)\n",
    "r2 = r2_score(pred_xgb, train_y)\n",
    "\n",
    "print(\"MSE: \", np.sqrt(MSE))\n",
    "print(\"R^2: \", r2)"
   ]
  },
  {
   "cell_type": "code",
   "execution_count": 148,
   "id": "064159c6",
   "metadata": {},
   "outputs": [],
   "source": [
    "pred_xgb[pred_xgb<0] = 0"
   ]
  },
  {
   "cell_type": "code",
   "execution_count": 12,
   "id": "548e8034",
   "metadata": {},
   "outputs": [
    {
     "data": {
      "text/plain": [
       "[<matplotlib.lines.Line2D at 0x220a97f85e0>]"
      ]
     },
     "execution_count": 12,
     "metadata": {},
     "output_type": "execute_result"
    },
    {
     "data": {
      "image/png": "[encoded data removed]",
      "text/plain": [
       "<Figure size 432x288 with 1 Axes>"
      ]
     },
     "metadata": {
      "needs_background": "light"
     },
     "output_type": "display_data"
    }
   ],
   "source": [
    "plt.plot(train_y)"
   ]
  },
  {
   "cell_type": "code",
   "execution_count": 14,
   "id": "48b26eef",
   "metadata": {},
   "outputs": [
    {
     "data": {
      "text/plain": [
       "586255.0"
      ]
     },
     "execution_count": 14,
     "metadata": {},
     "output_type": "execute_result"
    }
   ],
   "source": [
    "train_y.max()"
   ]
  },
  {
   "cell_type": "markdown",
   "id": "342a0ca4",
   "metadata": {},
   "source": [
    "# Hypertuning"
   ]
  },
  {
   "cell_type": "code",
   "execution_count": 43,
   "id": "3ca27ba0",
   "metadata": {},
   "outputs": [],
   "source": [
    "from hyperopt import STATUS_OK, Trials, fmin, hp, tpe #hyper parameter tuning\n",
    "x_train = train_x\n",
    "y_train = train_y\n",
    "x_test = val_x\n",
    "y_test = val_y"
   ]
  },
  {
   "cell_type": "code",
   "execution_count": 25,
   "id": "66ee0bc1",
   "metadata": {},
   "outputs": [
    {
     "name": "stdout",
     "output_type": "stream",
     "text": [
      "SCORE:                                                                                                                                                                                                       \n",
      "9813.960385867143                                                                                                                                                                                            \n",
      "  1%|█▎                                                                                                                                     | 1/100 [00:05<08:33,  5.19s/trial, best loss: 9813.960385867143]"
     ]
    },
    {
     "name": "stderr",
     "output_type": "stream",
     "text": [
      "UserWarning: `eval_metric` in `fit` method is deprecated for better compatibility with scikit-learn, use `eval_metric` in constructor or`set_params` instead.\n",
      "\n",
      "UserWarning: `early_stopping_rounds` in `fit` method is deprecated for better compatibility with scikit-learn, use `early_stopping_rounds` in constructor or`set_params` instead.\n",
      "\n"
     ]
    },
    {
     "name": "stdout",
     "output_type": "stream",
     "text": [
      "SCORE:                                                                                                                                                                                                       \n",
      "9854.178250567127                                                                                                                                                                                            \n",
      "  2%|██▋                                                                                                                                    | 2/100 [00:08<06:22,  3.90s/trial, best loss: 9813.960385867143]"
     ]
    },
    {
     "name": "stderr",
     "output_type": "stream",
     "text": [
      "UserWarning: `eval_metric` in `fit` method is deprecated for better compatibility with scikit-learn, use `eval_metric` in constructor or`set_params` instead.\n",
      "\n",
      "UserWarning: `early_stopping_rounds` in `fit` method is deprecated for better compatibility with scikit-learn, use `early_stopping_rounds` in constructor or`set_params` instead.\n",
      "\n"
     ]
    },
    {
     "name": "stdout",
     "output_type": "stream",
     "text": [
      "SCORE:                                                                                                                                                                                                       \n",
      "9356.480794299929                                                                                                                                                                                            \n",
      "  3%|████                                                                                                                                   | 3/100 [00:14<08:13,  5.09s/trial, best loss: 9356.480794299929]"
     ]
    },
    {
     "name": "stderr",
     "output_type": "stream",
     "text": [
      "UserWarning: `eval_metric` in `fit` method is deprecated for better compatibility with scikit-learn, use `eval_metric` in constructor or`set_params` instead.\n",
      "\n",
      "UserWarning: `early_stopping_rounds` in `fit` method is deprecated for better compatibility with scikit-learn, use `early_stopping_rounds` in constructor or`set_params` instead.\n",
      "\n"
     ]
    },
    {
     "name": "stdout",
     "output_type": "stream",
     "text": [
      "SCORE:                                                                                                                                                                                                       \n",
      "9540.388852547849                                                                                                                                                                                            \n",
      "  4%|█████▍                                                                                                                                 | 4/100 [00:20<08:54,  5.56s/trial, best loss: 9356.480794299929]"
     ]
    },
    {
     "name": "stderr",
     "output_type": "stream",
     "text": [
      "UserWarning: `eval_metric` in `fit` method is deprecated for better compatibility with scikit-learn, use `eval_metric` in constructor or`set_params` instead.\n",
      "\n",
      "UserWarning: `early_stopping_rounds` in `fit` method is deprecated for better compatibility with scikit-learn, use `early_stopping_rounds` in constructor or`set_params` instead.\n",
      "\n"
     ]
    },
    {
     "name": "stdout",
     "output_type": "stream",
     "text": [
      "SCORE:                                                                                                                                                                                                       \n",
      "9837.709161710485                                                                                                                                                                                            \n",
      "  5%|██████▊                                                                                                                                | 5/100 [00:23<07:15,  4.58s/trial, best loss: 9356.480794299929]"
     ]
    },
    {
     "name": "stderr",
     "output_type": "stream",
     "text": [
      "UserWarning: `eval_metric` in `fit` method is deprecated for better compatibility with scikit-learn, use `eval_metric` in constructor or`set_params` instead.\n",
      "\n",
      "UserWarning: `early_stopping_rounds` in `fit` method is deprecated for better compatibility with scikit-learn, use `early_stopping_rounds` in constructor or`set_params` instead.\n",
      "\n"
     ]
    },
    {
     "name": "stdout",
     "output_type": "stream",
     "text": [
      "SCORE:                                                                                                                                                                                                       \n",
      "9352.28747966338                                                                                                                                                                                             \n",
      "  6%|████████▏                                                                                                                               | 6/100 [00:30<08:16,  5.28s/trial, best loss: 9352.28747966338]"
     ]
    },
    {
     "name": "stderr",
     "output_type": "stream",
     "text": [
      "UserWarning: `eval_metric` in `fit` method is deprecated for better compatibility with scikit-learn, use `eval_metric` in constructor or`set_params` instead.\n",
      "\n",
      "UserWarning: `early_stopping_rounds` in `fit` method is deprecated for better compatibility with scikit-learn, use `early_stopping_rounds` in constructor or`set_params` instead.\n",
      "\n"
     ]
    },
    {
     "name": "stdout",
     "output_type": "stream",
     "text": [
      "SCORE:                                                                                                                                                                                                       \n",
      "9949.986534529786                                                                                                                                                                                            \n",
      "  7%|█████████▌                                                                                                                              | 7/100 [00:33<07:04,  4.56s/trial, best loss: 9352.28747966338]"
     ]
    },
    {
     "name": "stderr",
     "output_type": "stream",
     "text": [
      "UserWarning: `eval_metric` in `fit` method is deprecated for better compatibility with scikit-learn, use `eval_metric` in constructor or`set_params` instead.\n",
      "\n",
      "UserWarning: `early_stopping_rounds` in `fit` method is deprecated for better compatibility with scikit-learn, use `early_stopping_rounds` in constructor or`set_params` instead.\n",
      "\n"
     ]
    },
    {
     "name": "stdout",
     "output_type": "stream",
     "text": [
      "SCORE:                                                                                                                                                                                                       \n",
      "9532.948104862866                                                                                                                                                                                            \n",
      "  8%|██████████▉                                                                                                                             | 8/100 [00:39<07:39,  4.99s/trial, best loss: 9352.28747966338]"
     ]
    },
    {
     "name": "stderr",
     "output_type": "stream",
     "text": [
      "UserWarning: `eval_metric` in `fit` method is deprecated for better compatibility with scikit-learn, use `eval_metric` in constructor or`set_params` instead.\n",
      "\n",
      "UserWarning: `early_stopping_rounds` in `fit` method is deprecated for better compatibility with scikit-learn, use `early_stopping_rounds` in constructor or`set_params` instead.\n",
      "\n"
     ]
    },
    {
     "name": "stdout",
     "output_type": "stream",
     "text": [
      "SCORE:                                                                                                                                                                                                       \n",
      "9318.630979845353                                                                                                                                                                                            \n",
      "  9%|████████████▏                                                                                                                          | 9/100 [00:46<08:25,  5.56s/trial, best loss: 9318.630979845353]"
     ]
    },
    {
     "name": "stderr",
     "output_type": "stream",
     "text": [
      "UserWarning: `eval_metric` in `fit` method is deprecated for better compatibility with scikit-learn, use `eval_metric` in constructor or`set_params` instead.\n",
      "\n",
      "UserWarning: `early_stopping_rounds` in `fit` method is deprecated for better compatibility with scikit-learn, use `early_stopping_rounds` in constructor or`set_params` instead.\n",
      "\n"
     ]
    },
    {
     "name": "stdout",
     "output_type": "stream",
     "text": [
      "SCORE:                                                                                                                                                                                                       \n",
      "9753.838329331802                                                                                                                                                                                            \n",
      " 10%|█████████████▍                                                                                                                        | 10/100 [00:50<07:38,  5.10s/trial, best loss: 9318.630979845353]"
     ]
    },
    {
     "name": "stderr",
     "output_type": "stream",
     "text": [
      "UserWarning: `eval_metric` in `fit` method is deprecated for better compatibility with scikit-learn, use `eval_metric` in constructor or`set_params` instead.\n",
      "\n",
      "UserWarning: `early_stopping_rounds` in `fit` method is deprecated for better compatibility with scikit-learn, use `early_stopping_rounds` in constructor or`set_params` instead.\n",
      "\n"
     ]
    },
    {
     "name": "stdout",
     "output_type": "stream",
     "text": [
      "SCORE:                                                                                                                                                                                                       \n",
      "9413.47188919348                                                                                                                                                                                             \n",
      " 11%|██████████████▋                                                                                                                       | 11/100 [00:55<07:39,  5.16s/trial, best loss: 9318.630979845353]"
     ]
    },
    {
     "name": "stderr",
     "output_type": "stream",
     "text": [
      "UserWarning: `eval_metric` in `fit` method is deprecated for better compatibility with scikit-learn, use `eval_metric` in constructor or`set_params` instead.\n",
      "\n",
      "UserWarning: `early_stopping_rounds` in `fit` method is deprecated for better compatibility with scikit-learn, use `early_stopping_rounds` in constructor or`set_params` instead.\n",
      "\n"
     ]
    },
    {
     "name": "stdout",
     "output_type": "stream",
     "text": [
      "SCORE:                                                                                                                                                                                                       \n",
      "9824.045331675656                                                                                                                                                                                            \n",
      " 12%|████████████████                                                                                                                      | 12/100 [00:57<06:17,  4.29s/trial, best loss: 9318.630979845353]"
     ]
    },
    {
     "name": "stderr",
     "output_type": "stream",
     "text": [
      "UserWarning: `eval_metric` in `fit` method is deprecated for better compatibility with scikit-learn, use `eval_metric` in constructor or`set_params` instead.\n",
      "\n",
      "UserWarning: `early_stopping_rounds` in `fit` method is deprecated for better compatibility with scikit-learn, use `early_stopping_rounds` in constructor or`set_params` instead.\n",
      "\n"
     ]
    },
    {
     "name": "stdout",
     "output_type": "stream",
     "text": [
      "SCORE:                                                                                                                                                                                                       \n",
      "9855.590835252826                                                                                                                                                                                            \n",
      " 13%|█████████████████▍                                                                                                                    | 13/100 [01:04<07:22,  5.08s/trial, best loss: 9318.630979845353]"
     ]
    },
    {
     "name": "stderr",
     "output_type": "stream",
     "text": [
      "UserWarning: `eval_metric` in `fit` method is deprecated for better compatibility with scikit-learn, use `eval_metric` in constructor or`set_params` instead.\n",
      "\n",
      "UserWarning: `early_stopping_rounds` in `fit` method is deprecated for better compatibility with scikit-learn, use `early_stopping_rounds` in constructor or`set_params` instead.\n",
      "\n"
     ]
    },
    {
     "name": "stdout",
     "output_type": "stream",
     "text": [
      "SCORE:                                                                                                                                                                                                       \n",
      "9803.349874323161                                                                                                                                                                                            \n",
      " 14%|██████████████████▊                                                                                                                   | 14/100 [01:08<06:31,  4.55s/trial, best loss: 9318.630979845353]"
     ]
    },
    {
     "name": "stderr",
     "output_type": "stream",
     "text": [
      "UserWarning: `eval_metric` in `fit` method is deprecated for better compatibility with scikit-learn, use `eval_metric` in constructor or`set_params` instead.\n",
      "\n",
      "UserWarning: `early_stopping_rounds` in `fit` method is deprecated for better compatibility with scikit-learn, use `early_stopping_rounds` in constructor or`set_params` instead.\n",
      "\n"
     ]
    },
    {
     "name": "stdout",
     "output_type": "stream",
     "text": [
      "SCORE:                                                                                                                                                                                                       \n",
      "9833.503978052086                                                                                                                                                                                            \n",
      " 15%|████████████████████                                                                                                                  | 15/100 [01:10<05:42,  4.04s/trial, best loss: 9318.630979845353]"
     ]
    },
    {
     "name": "stderr",
     "output_type": "stream",
     "text": [
      "UserWarning: `eval_metric` in `fit` method is deprecated for better compatibility with scikit-learn, use `eval_metric` in constructor or`set_params` instead.\n",
      "\n",
      "UserWarning: `early_stopping_rounds` in `fit` method is deprecated for better compatibility with scikit-learn, use `early_stopping_rounds` in constructor or`set_params` instead.\n",
      "\n"
     ]
    },
    {
     "name": "stdout",
     "output_type": "stream",
     "text": [
      "SCORE:                                                                                                                                                                                                       \n",
      "9844.177779395417                                                                                                                                                                                            \n",
      " 16%|█████████████████████▍                                                                                                                | 16/100 [01:13<05:10,  3.70s/trial, best loss: 9318.630979845353]"
     ]
    },
    {
     "name": "stderr",
     "output_type": "stream",
     "text": [
      "UserWarning: `eval_metric` in `fit` method is deprecated for better compatibility with scikit-learn, use `eval_metric` in constructor or`set_params` instead.\n",
      "\n",
      "UserWarning: `early_stopping_rounds` in `fit` method is deprecated for better compatibility with scikit-learn, use `early_stopping_rounds` in constructor or`set_params` instead.\n",
      "\n"
     ]
    },
    {
     "name": "stdout",
     "output_type": "stream",
     "text": [
      "SCORE:                                                                                                                                                                                                       \n",
      "9822.983166787413                                                                                                                                                                                            \n",
      " 17%|██████████████████████▊                                                                                                               | 17/100 [01:21<06:44,  4.87s/trial, best loss: 9318.630979845353]"
     ]
    },
    {
     "name": "stderr",
     "output_type": "stream",
     "text": [
      "UserWarning: `eval_metric` in `fit` method is deprecated for better compatibility with scikit-learn, use `eval_metric` in constructor or`set_params` instead.\n",
      "\n",
      "UserWarning: `early_stopping_rounds` in `fit` method is deprecated for better compatibility with scikit-learn, use `early_stopping_rounds` in constructor or`set_params` instead.\n",
      "\n"
     ]
    },
    {
     "name": "stdout",
     "output_type": "stream",
     "text": [
      "SCORE:                                                                                                                                                                                                       \n",
      "10021.153179761595                                                                                                                                                                                           \n",
      " 18%|████████████████████████                                                                                                              | 18/100 [01:25<06:05,  4.46s/trial, best loss: 9318.630979845353]"
     ]
    },
    {
     "name": "stderr",
     "output_type": "stream",
     "text": [
      "UserWarning: `eval_metric` in `fit` method is deprecated for better compatibility with scikit-learn, use `eval_metric` in constructor or`set_params` instead.\n",
      "\n",
      "UserWarning: `early_stopping_rounds` in `fit` method is deprecated for better compatibility with scikit-learn, use `early_stopping_rounds` in constructor or`set_params` instead.\n",
      "\n"
     ]
    },
    {
     "name": "stdout",
     "output_type": "stream",
     "text": [
      "SCORE:                                                                                                                                                                                                       \n",
      "9385.789620591982                                                                                                                                                                                            \n",
      " 19%|█████████████████████████▍                                                                                                            | 19/100 [01:31<06:48,  5.05s/trial, best loss: 9318.630979845353]"
     ]
    },
    {
     "name": "stderr",
     "output_type": "stream",
     "text": [
      "UserWarning: `eval_metric` in `fit` method is deprecated for better compatibility with scikit-learn, use `eval_metric` in constructor or`set_params` instead.\n",
      "\n",
      "UserWarning: `early_stopping_rounds` in `fit` method is deprecated for better compatibility with scikit-learn, use `early_stopping_rounds` in constructor or`set_params` instead.\n",
      "\n"
     ]
    },
    {
     "name": "stdout",
     "output_type": "stream",
     "text": [
      "SCORE:                                                                                                                                                                                                       \n",
      "9679.103649538996                                                                                                                                                                                            \n",
      " 20%|██████████████████████████▊                                                                                                           | 20/100 [01:35<06:26,  4.83s/trial, best loss: 9318.630979845353]"
     ]
    },
    {
     "name": "stderr",
     "output_type": "stream",
     "text": [
      "UserWarning: `eval_metric` in `fit` method is deprecated for better compatibility with scikit-learn, use `eval_metric` in constructor or`set_params` instead.\n",
      "\n",
      "UserWarning: `early_stopping_rounds` in `fit` method is deprecated for better compatibility with scikit-learn, use `early_stopping_rounds` in constructor or`set_params` instead.\n",
      "\n"
     ]
    },
    {
     "name": "stdout",
     "output_type": "stream",
     "text": [
      "SCORE:                                                                                                                                                                                                       \n",
      "9141.711231328409                                                                                                                                                                                            \n",
      " 21%|████████████████████████████▏                                                                                                         | 21/100 [01:43<07:21,  5.59s/trial, best loss: 9141.711231328409]"
     ]
    },
    {
     "name": "stderr",
     "output_type": "stream",
     "text": [
      "UserWarning: `eval_metric` in `fit` method is deprecated for better compatibility with scikit-learn, use `eval_metric` in constructor or`set_params` instead.\n",
      "\n",
      "UserWarning: `early_stopping_rounds` in `fit` method is deprecated for better compatibility with scikit-learn, use `early_stopping_rounds` in constructor or`set_params` instead.\n",
      "\n"
     ]
    },
    {
     "name": "stdout",
     "output_type": "stream",
     "text": [
      "SCORE:                                                                                                                                                                                                       \n",
      "9126.731357472836                                                                                                                                                                                            \n",
      " 22%|█████████████████████████████▍                                                                                                        | 22/100 [01:50<08:03,  6.20s/trial, best loss: 9126.731357472836]"
     ]
    },
    {
     "name": "stderr",
     "output_type": "stream",
     "text": [
      "UserWarning: `eval_metric` in `fit` method is deprecated for better compatibility with scikit-learn, use `eval_metric` in constructor or`set_params` instead.\n",
      "\n",
      "UserWarning: `early_stopping_rounds` in `fit` method is deprecated for better compatibility with scikit-learn, use `early_stopping_rounds` in constructor or`set_params` instead.\n",
      "\n"
     ]
    },
    {
     "name": "stdout",
     "output_type": "stream",
     "text": [
      "SCORE:                                                                                                                                                                                                       \n",
      "9339.8779782217                                                                                                                                                                                              \n",
      " 23%|██████████████████████████████▊                                                                                                       | 23/100 [01:57<08:00,  6.24s/trial, best loss: 9126.731357472836]"
     ]
    },
    {
     "name": "stderr",
     "output_type": "stream",
     "text": [
      "UserWarning: `eval_metric` in `fit` method is deprecated for better compatibility with scikit-learn, use `eval_metric` in constructor or`set_params` instead.\n",
      "\n",
      "UserWarning: `early_stopping_rounds` in `fit` method is deprecated for better compatibility with scikit-learn, use `early_stopping_rounds` in constructor or`set_params` instead.\n",
      "\n"
     ]
    },
    {
     "name": "stdout",
     "output_type": "stream",
     "text": [
      "SCORE:                                                                                                                                                                                                       \n",
      "9477.93241433016                                                                                                                                                                                             \n",
      " 24%|████████████████████████████████▏                                                                                                     | 24/100 [02:02<07:37,  6.02s/trial, best loss: 9126.731357472836]"
     ]
    },
    {
     "name": "stderr",
     "output_type": "stream",
     "text": [
      "UserWarning: `eval_metric` in `fit` method is deprecated for better compatibility with scikit-learn, use `eval_metric` in constructor or`set_params` instead.\n",
      "\n",
      "UserWarning: `early_stopping_rounds` in `fit` method is deprecated for better compatibility with scikit-learn, use `early_stopping_rounds` in constructor or`set_params` instead.\n",
      "\n"
     ]
    },
    {
     "name": "stdout",
     "output_type": "stream",
     "text": [
      "SCORE:                                                                                                                                                                                                       \n",
      "9163.342861592322                                                                                                                                                                                            \n",
      " 25%|█████████████████████████████████▌                                                                                                    | 25/100 [02:10<08:25,  6.74s/trial, best loss: 9126.731357472836]"
     ]
    },
    {
     "name": "stderr",
     "output_type": "stream",
     "text": [
      "UserWarning: `eval_metric` in `fit` method is deprecated for better compatibility with scikit-learn, use `eval_metric` in constructor or`set_params` instead.\n",
      "\n",
      "UserWarning: `early_stopping_rounds` in `fit` method is deprecated for better compatibility with scikit-learn, use `early_stopping_rounds` in constructor or`set_params` instead.\n",
      "\n"
     ]
    },
    {
     "name": "stdout",
     "output_type": "stream",
     "text": [
      "SCORE:                                                                                                                                                                                                       \n",
      "9317.57985230072                                                                                                                                                                                             \n",
      " 26%|██████████████████████████████████▊                                                                                                   | 26/100 [02:18<08:33,  6.94s/trial, best loss: 9126.731357472836]"
     ]
    },
    {
     "name": "stderr",
     "output_type": "stream",
     "text": [
      "UserWarning: `eval_metric` in `fit` method is deprecated for better compatibility with scikit-learn, use `eval_metric` in constructor or`set_params` instead.\n",
      "\n",
      "UserWarning: `early_stopping_rounds` in `fit` method is deprecated for better compatibility with scikit-learn, use `early_stopping_rounds` in constructor or`set_params` instead.\n",
      "\n"
     ]
    },
    {
     "name": "stdout",
     "output_type": "stream",
     "text": [
      "SCORE:                                                                                                                                                                                                       \n",
      "9690.845024118764                                                                                                                                                                                            \n",
      " 27%|████████████████████████████████████▏                                                                                                 | 27/100 [02:24<08:02,  6.60s/trial, best loss: 9126.731357472836]"
     ]
    },
    {
     "name": "stderr",
     "output_type": "stream",
     "text": [
      "UserWarning: `eval_metric` in `fit` method is deprecated for better compatibility with scikit-learn, use `eval_metric` in constructor or`set_params` instead.\n",
      "\n",
      "UserWarning: `early_stopping_rounds` in `fit` method is deprecated for better compatibility with scikit-learn, use `early_stopping_rounds` in constructor or`set_params` instead.\n",
      "\n"
     ]
    },
    {
     "name": "stdout",
     "output_type": "stream",
     "text": [
      "SCORE:                                                                                                                                                                                                       \n",
      "9127.433350093717                                                                                                                                                                                            \n",
      " 28%|█████████████████████████████████████▌                                                                                                | 28/100 [02:31<08:11,  6.83s/trial, best loss: 9126.731357472836]"
     ]
    },
    {
     "name": "stderr",
     "output_type": "stream",
     "text": [
      "UserWarning: `eval_metric` in `fit` method is deprecated for better compatibility with scikit-learn, use `eval_metric` in constructor or`set_params` instead.\n",
      "\n",
      "UserWarning: `early_stopping_rounds` in `fit` method is deprecated for better compatibility with scikit-learn, use `early_stopping_rounds` in constructor or`set_params` instead.\n",
      "\n"
     ]
    },
    {
     "name": "stdout",
     "output_type": "stream",
     "text": [
      "SCORE:                                                                                                                                                                                                       \n",
      "9433.486906786213                                                                                                                                                                                            \n",
      " 29%|██████████████████████████████████████▊                                                                                               | 29/100 [02:37<07:43,  6.52s/trial, best loss: 9126.731357472836]"
     ]
    },
    {
     "name": "stderr",
     "output_type": "stream",
     "text": [
      "UserWarning: `eval_metric` in `fit` method is deprecated for better compatibility with scikit-learn, use `eval_metric` in constructor or`set_params` instead.\n",
      "\n",
      "UserWarning: `early_stopping_rounds` in `fit` method is deprecated for better compatibility with scikit-learn, use `early_stopping_rounds` in constructor or`set_params` instead.\n",
      "\n"
     ]
    },
    {
     "name": "stdout",
     "output_type": "stream",
     "text": [
      "SCORE:                                                                                                                                                                                                       \n",
      "9558.286789644953                                                                                                                                                                                            \n",
      " 30%|████████████████████████████████████████▏                                                                                             | 30/100 [02:42<07:03,  6.05s/trial, best loss: 9126.731357472836]"
     ]
    },
    {
     "name": "stderr",
     "output_type": "stream",
     "text": [
      "UserWarning: `eval_metric` in `fit` method is deprecated for better compatibility with scikit-learn, use `eval_metric` in constructor or`set_params` instead.\n",
      "\n",
      "UserWarning: `early_stopping_rounds` in `fit` method is deprecated for better compatibility with scikit-learn, use `early_stopping_rounds` in constructor or`set_params` instead.\n",
      "\n"
     ]
    },
    {
     "name": "stdout",
     "output_type": "stream",
     "text": [
      "SCORE:                                                                                                                                                                                                       \n",
      "9369.058642755957                                                                                                                                                                                            \n",
      " 31%|█████████████████████████████████████████▌                                                                                            | 31/100 [02:48<07:02,  6.13s/trial, best loss: 9126.731357472836]"
     ]
    },
    {
     "name": "stderr",
     "output_type": "stream",
     "text": [
      "UserWarning: `eval_metric` in `fit` method is deprecated for better compatibility with scikit-learn, use `eval_metric` in constructor or`set_params` instead.\n",
      "\n",
      "UserWarning: `early_stopping_rounds` in `fit` method is deprecated for better compatibility with scikit-learn, use `early_stopping_rounds` in constructor or`set_params` instead.\n",
      "\n"
     ]
    },
    {
     "name": "stdout",
     "output_type": "stream",
     "text": [
      "SCORE:                                                                                                                                                                                                       \n",
      "9718.403569197008                                                                                                                                                                                            \n",
      " 32%|██████████████████████████████████████████▉                                                                                           | 32/100 [02:56<07:23,  6.52s/trial, best loss: 9126.731357472836]"
     ]
    },
    {
     "name": "stderr",
     "output_type": "stream",
     "text": [
      "UserWarning: `eval_metric` in `fit` method is deprecated for better compatibility with scikit-learn, use `eval_metric` in constructor or`set_params` instead.\n",
      "\n",
      "UserWarning: `early_stopping_rounds` in `fit` method is deprecated for better compatibility with scikit-learn, use `early_stopping_rounds` in constructor or`set_params` instead.\n",
      "\n"
     ]
    },
    {
     "name": "stdout",
     "output_type": "stream",
     "text": [
      "SCORE:                                                                                                                                                                                                       \n",
      "9674.134406828678                                                                                                                                                                                            \n",
      " 33%|████████████████████████████████████████████▏                                                                                         | 33/100 [03:00<06:35,  5.91s/trial, best loss: 9126.731357472836]"
     ]
    },
    {
     "name": "stderr",
     "output_type": "stream",
     "text": [
      "UserWarning: `eval_metric` in `fit` method is deprecated for better compatibility with scikit-learn, use `eval_metric` in constructor or`set_params` instead.\n",
      "\n",
      "UserWarning: `early_stopping_rounds` in `fit` method is deprecated for better compatibility with scikit-learn, use `early_stopping_rounds` in constructor or`set_params` instead.\n",
      "\n"
     ]
    },
    {
     "name": "stdout",
     "output_type": "stream",
     "text": [
      "SCORE:                                                                                                                                                                                                       \n",
      "9238.144941275543                                                                                                                                                                                            \n",
      " 34%|█████████████████████████████████████████████▌                                                                                        | 34/100 [03:08<07:03,  6.41s/trial, best loss: 9126.731357472836]"
     ]
    },
    {
     "name": "stderr",
     "output_type": "stream",
     "text": [
      "UserWarning: `eval_metric` in `fit` method is deprecated for better compatibility with scikit-learn, use `eval_metric` in constructor or`set_params` instead.\n",
      "\n",
      "UserWarning: `early_stopping_rounds` in `fit` method is deprecated for better compatibility with scikit-learn, use `early_stopping_rounds` in constructor or`set_params` instead.\n",
      "\n"
     ]
    },
    {
     "name": "stdout",
     "output_type": "stream",
     "text": [
      "SCORE:                                                                                                                                                                                                       \n",
      "9666.676544259428                                                                                                                                                                                            \n",
      " 35%|██████████████████████████████████████████████▉                                                                                       | 35/100 [03:12<06:10,  5.70s/trial, best loss: 9126.731357472836]"
     ]
    },
    {
     "name": "stderr",
     "output_type": "stream",
     "text": [
      "UserWarning: `eval_metric` in `fit` method is deprecated for better compatibility with scikit-learn, use `eval_metric` in constructor or`set_params` instead.\n",
      "\n",
      "UserWarning: `early_stopping_rounds` in `fit` method is deprecated for better compatibility with scikit-learn, use `early_stopping_rounds` in constructor or`set_params` instead.\n",
      "\n"
     ]
    },
    {
     "name": "stdout",
     "output_type": "stream",
     "text": [
      "SCORE:                                                                                                                                                                                                       \n",
      "9397.311146004411                                                                                                                                                                                            \n",
      " 36%|████████████████████████████████████████████████▏                                                                                     | 36/100 [03:17<06:00,  5.63s/trial, best loss: 9126.731357472836]"
     ]
    },
    {
     "name": "stderr",
     "output_type": "stream",
     "text": [
      "UserWarning: `eval_metric` in `fit` method is deprecated for better compatibility with scikit-learn, use `eval_metric` in constructor or`set_params` instead.\n",
      "\n",
      "UserWarning: `early_stopping_rounds` in `fit` method is deprecated for better compatibility with scikit-learn, use `early_stopping_rounds` in constructor or`set_params` instead.\n",
      "\n"
     ]
    },
    {
     "name": "stdout",
     "output_type": "stream",
     "text": [
      "SCORE:                                                                                                                                                                                                       \n",
      "9807.761112072016                                                                                                                                                                                            \n",
      " 37%|█████████████████████████████████████████████████▌                                                                                    | 37/100 [03:20<04:58,  4.73s/trial, best loss: 9126.731357472836]"
     ]
    },
    {
     "name": "stderr",
     "output_type": "stream",
     "text": [
      "UserWarning: `eval_metric` in `fit` method is deprecated for better compatibility with scikit-learn, use `eval_metric` in constructor or`set_params` instead.\n",
      "\n",
      "UserWarning: `early_stopping_rounds` in `fit` method is deprecated for better compatibility with scikit-learn, use `early_stopping_rounds` in constructor or`set_params` instead.\n",
      "\n"
     ]
    },
    {
     "name": "stdout",
     "output_type": "stream",
     "text": [
      "SCORE:                                                                                                                                                                                                       \n",
      "9433.559366582162                                                                                                                                                                                            \n",
      " 38%|██████████████████████████████████████████████████▉                                                                                   | 38/100 [03:26<05:24,  5.24s/trial, best loss: 9126.731357472836]"
     ]
    },
    {
     "name": "stderr",
     "output_type": "stream",
     "text": [
      "UserWarning: `eval_metric` in `fit` method is deprecated for better compatibility with scikit-learn, use `eval_metric` in constructor or`set_params` instead.\n",
      "\n",
      "UserWarning: `early_stopping_rounds` in `fit` method is deprecated for better compatibility with scikit-learn, use `early_stopping_rounds` in constructor or`set_params` instead.\n",
      "\n"
     ]
    },
    {
     "name": "stdout",
     "output_type": "stream",
     "text": [
      "SCORE:                                                                                                                                                                                                       \n",
      "9642.112821996116                                                                                                                                                                                            \n",
      " 39%|████████████████████████████████████████████████████▎                                                                                 | 39/100 [03:34<05:59,  5.89s/trial, best loss: 9126.731357472836]"
     ]
    },
    {
     "name": "stderr",
     "output_type": "stream",
     "text": [
      "UserWarning: `eval_metric` in `fit` method is deprecated for better compatibility with scikit-learn, use `eval_metric` in constructor or`set_params` instead.\n",
      "\n",
      "UserWarning: `early_stopping_rounds` in `fit` method is deprecated for better compatibility with scikit-learn, use `early_stopping_rounds` in constructor or`set_params` instead.\n",
      "\n"
     ]
    },
    {
     "name": "stdout",
     "output_type": "stream",
     "text": [
      "SCORE:                                                                                                                                                                                                       \n",
      "9375.118124456023                                                                                                                                                                                            \n",
      " 40%|█████████████████████████████████████████████████████▌                                                                                | 40/100 [03:40<05:58,  5.97s/trial, best loss: 9126.731357472836]"
     ]
    },
    {
     "name": "stderr",
     "output_type": "stream",
     "text": [
      "UserWarning: `eval_metric` in `fit` method is deprecated for better compatibility with scikit-learn, use `eval_metric` in constructor or`set_params` instead.\n",
      "\n",
      "UserWarning: `early_stopping_rounds` in `fit` method is deprecated for better compatibility with scikit-learn, use `early_stopping_rounds` in constructor or`set_params` instead.\n",
      "\n"
     ]
    },
    {
     "name": "stdout",
     "output_type": "stream",
     "text": [
      "SCORE:                                                                                                                                                                                                       \n",
      "9405.893537024971                                                                                                                                                                                            \n",
      " 41%|██████████████████████████████████████████████████████▉                                                                               | 41/100 [03:47<06:17,  6.39s/trial, best loss: 9126.731357472836]"
     ]
    },
    {
     "name": "stderr",
     "output_type": "stream",
     "text": [
      "UserWarning: `eval_metric` in `fit` method is deprecated for better compatibility with scikit-learn, use `eval_metric` in constructor or`set_params` instead.\n",
      "\n",
      "UserWarning: `early_stopping_rounds` in `fit` method is deprecated for better compatibility with scikit-learn, use `early_stopping_rounds` in constructor or`set_params` instead.\n",
      "\n"
     ]
    },
    {
     "name": "stdout",
     "output_type": "stream",
     "text": [
      "SCORE:                                                                                                                                                                                                       \n",
      "9409.784124498356                                                                                                                                                                                            \n",
      " 42%|████████████████████████████████████████████████████████▎                                                                             | 42/100 [03:54<06:17,  6.51s/trial, best loss: 9126.731357472836]"
     ]
    },
    {
     "name": "stderr",
     "output_type": "stream",
     "text": [
      "UserWarning: `eval_metric` in `fit` method is deprecated for better compatibility with scikit-learn, use `eval_metric` in constructor or`set_params` instead.\n",
      "\n",
      "UserWarning: `early_stopping_rounds` in `fit` method is deprecated for better compatibility with scikit-learn, use `early_stopping_rounds` in constructor or`set_params` instead.\n",
      "\n"
     ]
    },
    {
     "name": "stdout",
     "output_type": "stream",
     "text": [
      "SCORE:                                                                                                                                                                                                       \n",
      "9412.831525551683                                                                                                                                                                                            \n",
      " 43%|█████████████████████████████████████████████████████████▌                                                                            | 43/100 [04:00<05:57,  6.27s/trial, best loss: 9126.731357472836]"
     ]
    },
    {
     "name": "stderr",
     "output_type": "stream",
     "text": [
      "UserWarning: `eval_metric` in `fit` method is deprecated for better compatibility with scikit-learn, use `eval_metric` in constructor or`set_params` instead.\n",
      "\n",
      "UserWarning: `early_stopping_rounds` in `fit` method is deprecated for better compatibility with scikit-learn, use `early_stopping_rounds` in constructor or`set_params` instead.\n",
      "\n"
     ]
    },
    {
     "name": "stdout",
     "output_type": "stream",
     "text": [
      "SCORE:                                                                                                                                                                                                       \n",
      "9583.55693429401                                                                                                                                                                                             \n",
      " 44%|██████████████████████████████████████████████████████████▉                                                                           | 44/100 [04:04<05:25,  5.81s/trial, best loss: 9126.731357472836]"
     ]
    },
    {
     "name": "stderr",
     "output_type": "stream",
     "text": [
      "UserWarning: `eval_metric` in `fit` method is deprecated for better compatibility with scikit-learn, use `eval_metric` in constructor or`set_params` instead.\n",
      "\n",
      "UserWarning: `early_stopping_rounds` in `fit` method is deprecated for better compatibility with scikit-learn, use `early_stopping_rounds` in constructor or`set_params` instead.\n",
      "\n"
     ]
    },
    {
     "name": "stdout",
     "output_type": "stream",
     "text": [
      "SCORE:                                                                                                                                                                                                       \n",
      "9281.475477004255                                                                                                                                                                                            \n",
      " 45%|████████████████████████████████████████████████████████████▎                                                                         | 45/100 [04:11<05:28,  5.98s/trial, best loss: 9126.731357472836]"
     ]
    },
    {
     "name": "stderr",
     "output_type": "stream",
     "text": [
      "UserWarning: `eval_metric` in `fit` method is deprecated for better compatibility with scikit-learn, use `eval_metric` in constructor or`set_params` instead.\n",
      "\n",
      "UserWarning: `early_stopping_rounds` in `fit` method is deprecated for better compatibility with scikit-learn, use `early_stopping_rounds` in constructor or`set_params` instead.\n",
      "\n"
     ]
    },
    {
     "name": "stdout",
     "output_type": "stream",
     "text": [
      "SCORE:                                                                                                                                                                                                       \n",
      "9644.283957684747                                                                                                                                                                                            \n",
      " 46%|█████████████████████████████████████████████████████████████▋                                                                        | 46/100 [04:16<05:11,  5.77s/trial, best loss: 9126.731357472836]"
     ]
    },
    {
     "name": "stderr",
     "output_type": "stream",
     "text": [
      "UserWarning: `eval_metric` in `fit` method is deprecated for better compatibility with scikit-learn, use `eval_metric` in constructor or`set_params` instead.\n",
      "\n",
      "UserWarning: `early_stopping_rounds` in `fit` method is deprecated for better compatibility with scikit-learn, use `early_stopping_rounds` in constructor or`set_params` instead.\n",
      "\n"
     ]
    },
    {
     "name": "stdout",
     "output_type": "stream",
     "text": [
      "SCORE:                                                                                                                                                                                                       \n",
      "9668.715314138837                                                                                                                                                                                            \n",
      " 47%|██████████████████████████████████████████████████████████████▉                                                                       | 47/100 [04:22<05:06,  5.78s/trial, best loss: 9126.731357472836]"
     ]
    },
    {
     "name": "stderr",
     "output_type": "stream",
     "text": [
      "UserWarning: `eval_metric` in `fit` method is deprecated for better compatibility with scikit-learn, use `eval_metric` in constructor or`set_params` instead.\n",
      "\n",
      "UserWarning: `early_stopping_rounds` in `fit` method is deprecated for better compatibility with scikit-learn, use `early_stopping_rounds` in constructor or`set_params` instead.\n",
      "\n"
     ]
    },
    {
     "name": "stdout",
     "output_type": "stream",
     "text": [
      "SCORE:                                                                                                                                                                                                       \n",
      "9197.3689180535                                                                                                                                                                                              \n",
      " 48%|████████████████████████████████████████████████████████████████▎                                                                     | 48/100 [04:29<05:28,  6.31s/trial, best loss: 9126.731357472836]"
     ]
    },
    {
     "name": "stderr",
     "output_type": "stream",
     "text": [
      "UserWarning: `eval_metric` in `fit` method is deprecated for better compatibility with scikit-learn, use `eval_metric` in constructor or`set_params` instead.\n",
      "\n",
      "UserWarning: `early_stopping_rounds` in `fit` method is deprecated for better compatibility with scikit-learn, use `early_stopping_rounds` in constructor or`set_params` instead.\n",
      "\n"
     ]
    },
    {
     "name": "stdout",
     "output_type": "stream",
     "text": [
      "SCORE:                                                                                                                                                                                                       \n",
      "9515.605563761163                                                                                                                                                                                            \n",
      " 49%|█████████████████████████████████████████████████████████████████▋                                                                    | 49/100 [04:34<04:53,  5.75s/trial, best loss: 9126.731357472836]"
     ]
    },
    {
     "name": "stderr",
     "output_type": "stream",
     "text": [
      "UserWarning: `eval_metric` in `fit` method is deprecated for better compatibility with scikit-learn, use `eval_metric` in constructor or`set_params` instead.\n",
      "\n",
      "UserWarning: `early_stopping_rounds` in `fit` method is deprecated for better compatibility with scikit-learn, use `early_stopping_rounds` in constructor or`set_params` instead.\n",
      "\n"
     ]
    },
    {
     "name": "stdout",
     "output_type": "stream",
     "text": [
      "SCORE:                                                                                                                                                                                                       \n",
      "9477.206799976526                                                                                                                                                                                            \n",
      " 50%|███████████████████████████████████████████████████████████████████                                                                   | 50/100 [04:41<05:05,  6.10s/trial, best loss: 9126.731357472836]"
     ]
    },
    {
     "name": "stderr",
     "output_type": "stream",
     "text": [
      "UserWarning: `eval_metric` in `fit` method is deprecated for better compatibility with scikit-learn, use `eval_metric` in constructor or`set_params` instead.\n",
      "\n",
      "UserWarning: `early_stopping_rounds` in `fit` method is deprecated for better compatibility with scikit-learn, use `early_stopping_rounds` in constructor or`set_params` instead.\n",
      "\n"
     ]
    },
    {
     "name": "stdout",
     "output_type": "stream",
     "text": [
      "SCORE:                                                                                                                                                                                                       \n",
      "9889.492968504454                                                                                                                                                                                            \n",
      " 51%|████████████████████████████████████████████████████████████████████▎                                                                 | 51/100 [04:44<04:23,  5.37s/trial, best loss: 9126.731357472836]"
     ]
    },
    {
     "name": "stderr",
     "output_type": "stream",
     "text": [
      "UserWarning: `eval_metric` in `fit` method is deprecated for better compatibility with scikit-learn, use `eval_metric` in constructor or`set_params` instead.\n",
      "\n",
      "UserWarning: `early_stopping_rounds` in `fit` method is deprecated for better compatibility with scikit-learn, use `early_stopping_rounds` in constructor or`set_params` instead.\n",
      "\n"
     ]
    },
    {
     "name": "stdout",
     "output_type": "stream",
     "text": [
      "SCORE:                                                                                                                                                                                                       \n",
      "9826.122040642575                                                                                                                                                                                            \n",
      " 52%|█████████████████████████████████████████████████████████████████████▋                                                                | 52/100 [04:47<03:34,  4.47s/trial, best loss: 9126.731357472836]"
     ]
    },
    {
     "name": "stderr",
     "output_type": "stream",
     "text": [
      "UserWarning: `eval_metric` in `fit` method is deprecated for better compatibility with scikit-learn, use `eval_metric` in constructor or`set_params` instead.\n",
      "\n",
      "UserWarning: `early_stopping_rounds` in `fit` method is deprecated for better compatibility with scikit-learn, use `early_stopping_rounds` in constructor or`set_params` instead.\n",
      "\n"
     ]
    },
    {
     "name": "stdout",
     "output_type": "stream",
     "text": [
      "SCORE:                                                                                                                                                                                                       \n",
      "9459.200129770881                                                                                                                                                                                            \n",
      " 53%|███████████████████████████████████████████████████████████████████████                                                               | 53/100 [04:52<03:44,  4.78s/trial, best loss: 9126.731357472836]"
     ]
    },
    {
     "name": "stderr",
     "output_type": "stream",
     "text": [
      "UserWarning: `eval_metric` in `fit` method is deprecated for better compatibility with scikit-learn, use `eval_metric` in constructor or`set_params` instead.\n",
      "\n",
      "UserWarning: `early_stopping_rounds` in `fit` method is deprecated for better compatibility with scikit-learn, use `early_stopping_rounds` in constructor or`set_params` instead.\n",
      "\n"
     ]
    },
    {
     "name": "stdout",
     "output_type": "stream",
     "text": [
      "SCORE:                                                                                                                                                                                                       \n",
      "9271.218086011972                                                                                                                                                                                            \n",
      " 54%|████████████████████████████████████████████████████████████████████████▎                                                             | 54/100 [04:59<04:09,  5.42s/trial, best loss: 9126.731357472836]"
     ]
    },
    {
     "name": "stderr",
     "output_type": "stream",
     "text": [
      "UserWarning: `eval_metric` in `fit` method is deprecated for better compatibility with scikit-learn, use `eval_metric` in constructor or`set_params` instead.\n",
      "\n",
      "UserWarning: `early_stopping_rounds` in `fit` method is deprecated for better compatibility with scikit-learn, use `early_stopping_rounds` in constructor or`set_params` instead.\n",
      "\n"
     ]
    },
    {
     "name": "stdout",
     "output_type": "stream",
     "text": [
      "SCORE:                                                                                                                                                                                                       \n",
      "9326.492249394265                                                                                                                                                                                            \n",
      " 55%|█████████████████████████████████████████████████████████████████████████▋                                                            | 55/100 [05:07<04:35,  6.12s/trial, best loss: 9126.731357472836]"
     ]
    },
    {
     "name": "stderr",
     "output_type": "stream",
     "text": [
      "UserWarning: `eval_metric` in `fit` method is deprecated for better compatibility with scikit-learn, use `eval_metric` in constructor or`set_params` instead.\n",
      "\n",
      "UserWarning: `early_stopping_rounds` in `fit` method is deprecated for better compatibility with scikit-learn, use `early_stopping_rounds` in constructor or`set_params` instead.\n",
      "\n"
     ]
    },
    {
     "name": "stdout",
     "output_type": "stream",
     "text": [
      "SCORE:                                                                                                                                                                                                       \n",
      "9284.963528400705                                                                                                                                                                                            \n",
      " 56%|███████████████████████████████████████████████████████████████████████████                                                           | 56/100 [05:14<04:43,  6.45s/trial, best loss: 9126.731357472836]"
     ]
    },
    {
     "name": "stderr",
     "output_type": "stream",
     "text": [
      "UserWarning: `eval_metric` in `fit` method is deprecated for better compatibility with scikit-learn, use `eval_metric` in constructor or`set_params` instead.\n",
      "\n",
      "UserWarning: `early_stopping_rounds` in `fit` method is deprecated for better compatibility with scikit-learn, use `early_stopping_rounds` in constructor or`set_params` instead.\n",
      "\n"
     ]
    },
    {
     "name": "stdout",
     "output_type": "stream",
     "text": [
      "SCORE:                                                                                                                                                                                                       \n",
      "9473.017589405637                                                                                                                                                                                            \n",
      " 57%|████████████████████████████████████████████████████████████████████████████▍                                                         | 57/100 [05:20<04:31,  6.30s/trial, best loss: 9126.731357472836]"
     ]
    },
    {
     "name": "stderr",
     "output_type": "stream",
     "text": [
      "UserWarning: `eval_metric` in `fit` method is deprecated for better compatibility with scikit-learn, use `eval_metric` in constructor or`set_params` instead.\n",
      "\n",
      "UserWarning: `early_stopping_rounds` in `fit` method is deprecated for better compatibility with scikit-learn, use `early_stopping_rounds` in constructor or`set_params` instead.\n",
      "\n"
     ]
    },
    {
     "name": "stdout",
     "output_type": "stream",
     "text": [
      "SCORE:                                                                                                                                                                                                       \n",
      "9589.73268889471                                                                                                                                                                                             \n",
      " 58%|█████████████████████████████████████████████████████████████████████████████▋                                                        | 58/100 [05:26<04:22,  6.24s/trial, best loss: 9126.731357472836]"
     ]
    },
    {
     "name": "stderr",
     "output_type": "stream",
     "text": [
      "UserWarning: `eval_metric` in `fit` method is deprecated for better compatibility with scikit-learn, use `eval_metric` in constructor or`set_params` instead.\n",
      "\n",
      "UserWarning: `early_stopping_rounds` in `fit` method is deprecated for better compatibility with scikit-learn, use `early_stopping_rounds` in constructor or`set_params` instead.\n",
      "\n"
     ]
    },
    {
     "name": "stdout",
     "output_type": "stream",
     "text": [
      "SCORE:                                                                                                                                                                                                       \n",
      "9666.438706728059                                                                                                                                                                                            \n",
      " 59%|███████████████████████████████████████████████████████████████████████████████                                                       | 59/100 [05:33<04:27,  6.53s/trial, best loss: 9126.731357472836]"
     ]
    },
    {
     "name": "stderr",
     "output_type": "stream",
     "text": [
      "UserWarning: `eval_metric` in `fit` method is deprecated for better compatibility with scikit-learn, use `eval_metric` in constructor or`set_params` instead.\n",
      "\n",
      "UserWarning: `early_stopping_rounds` in `fit` method is deprecated for better compatibility with scikit-learn, use `early_stopping_rounds` in constructor or`set_params` instead.\n",
      "\n"
     ]
    },
    {
     "name": "stdout",
     "output_type": "stream",
     "text": [
      "SCORE:                                                                                                                                                                                                       \n",
      "9606.695072462388                                                                                                                                                                                            \n",
      " 60%|████████████████████████████████████████████████████████████████████████████████▍                                                     | 60/100 [05:40<04:19,  6.48s/trial, best loss: 9126.731357472836]"
     ]
    },
    {
     "name": "stderr",
     "output_type": "stream",
     "text": [
      "UserWarning: `eval_metric` in `fit` method is deprecated for better compatibility with scikit-learn, use `eval_metric` in constructor or`set_params` instead.\n",
      "\n",
      "UserWarning: `early_stopping_rounds` in `fit` method is deprecated for better compatibility with scikit-learn, use `early_stopping_rounds` in constructor or`set_params` instead.\n",
      "\n"
     ]
    },
    {
     "name": "stdout",
     "output_type": "stream",
     "text": [
      "SCORE:                                                                                                                                                                                                       \n",
      "9449.236699449042                                                                                                                                                                                            \n",
      " 61%|█████████████████████████████████████████████████████████████████████████████████▋                                                    | 61/100 [05:45<03:57,  6.10s/trial, best loss: 9126.731357472836]"
     ]
    },
    {
     "name": "stderr",
     "output_type": "stream",
     "text": [
      "UserWarning: `eval_metric` in `fit` method is deprecated for better compatibility with scikit-learn, use `eval_metric` in constructor or`set_params` instead.\n",
      "\n",
      "UserWarning: `early_stopping_rounds` in `fit` method is deprecated for better compatibility with scikit-learn, use `early_stopping_rounds` in constructor or`set_params` instead.\n",
      "\n"
     ]
    },
    {
     "name": "stdout",
     "output_type": "stream",
     "text": [
      "SCORE:                                                                                                                                                                                                       \n",
      "9964.012336449998                                                                                                                                                                                            \n",
      " 62%|███████████████████████████████████████████████████████████████████████████████████                                                   | 62/100 [05:49<03:23,  5.35s/trial, best loss: 9126.731357472836]"
     ]
    },
    {
     "name": "stderr",
     "output_type": "stream",
     "text": [
      "UserWarning: `eval_metric` in `fit` method is deprecated for better compatibility with scikit-learn, use `eval_metric` in constructor or`set_params` instead.\n",
      "\n",
      "UserWarning: `early_stopping_rounds` in `fit` method is deprecated for better compatibility with scikit-learn, use `early_stopping_rounds` in constructor or`set_params` instead.\n",
      "\n"
     ]
    },
    {
     "name": "stdout",
     "output_type": "stream",
     "text": [
      "SCORE:                                                                                                                                                                                                       \n",
      "9247.85098873318                                                                                                                                                                                             \n",
      " 63%|████████████████████████████████████████████████████████████████████████████████████▍                                                 | 63/100 [05:55<03:34,  5.79s/trial, best loss: 9126.731357472836]"
     ]
    },
    {
     "name": "stderr",
     "output_type": "stream",
     "text": [
      "UserWarning: `eval_metric` in `fit` method is deprecated for better compatibility with scikit-learn, use `eval_metric` in constructor or`set_params` instead.\n",
      "\n",
      "UserWarning: `early_stopping_rounds` in `fit` method is deprecated for better compatibility with scikit-learn, use `early_stopping_rounds` in constructor or`set_params` instead.\n",
      "\n"
     ]
    },
    {
     "name": "stdout",
     "output_type": "stream",
     "text": [
      "SCORE:                                                                                                                                                                                                       \n",
      "9831.582242316887                                                                                                                                                                                            \n",
      " 64%|█████████████████████████████████████████████████████████████████████████████████████▊                                                | 64/100 [05:58<02:56,  4.91s/trial, best loss: 9126.731357472836]"
     ]
    },
    {
     "name": "stderr",
     "output_type": "stream",
     "text": [
      "UserWarning: `eval_metric` in `fit` method is deprecated for better compatibility with scikit-learn, use `eval_metric` in constructor or`set_params` instead.\n",
      "\n",
      "UserWarning: `early_stopping_rounds` in `fit` method is deprecated for better compatibility with scikit-learn, use `early_stopping_rounds` in constructor or`set_params` instead.\n",
      "\n"
     ]
    },
    {
     "name": "stdout",
     "output_type": "stream",
     "text": [
      "SCORE:                                                                                                                                                                                                       \n",
      "9260.192313632224                                                                                                                                                                                            \n",
      " 65%|███████████████████████████████████████████████████████████████████████████████████████                                               | 65/100 [06:06<03:17,  5.63s/trial, best loss: 9126.731357472836]"
     ]
    },
    {
     "name": "stderr",
     "output_type": "stream",
     "text": [
      "UserWarning: `eval_metric` in `fit` method is deprecated for better compatibility with scikit-learn, use `eval_metric` in constructor or`set_params` instead.\n",
      "\n",
      "UserWarning: `early_stopping_rounds` in `fit` method is deprecated for better compatibility with scikit-learn, use `early_stopping_rounds` in constructor or`set_params` instead.\n",
      "\n"
     ]
    },
    {
     "name": "stdout",
     "output_type": "stream",
     "text": [
      "SCORE:                                                                                                                                                                                                       \n",
      "9143.085995888745                                                                                                                                                                                            \n",
      " 66%|████████████████████████████████████████████████████████████████████████████████████████▍                                             | 66/100 [06:13<03:28,  6.12s/trial, best loss: 9126.731357472836]"
     ]
    },
    {
     "name": "stderr",
     "output_type": "stream",
     "text": [
      "UserWarning: `eval_metric` in `fit` method is deprecated for better compatibility with scikit-learn, use `eval_metric` in constructor or`set_params` instead.\n",
      "\n",
      "UserWarning: `early_stopping_rounds` in `fit` method is deprecated for better compatibility with scikit-learn, use `early_stopping_rounds` in constructor or`set_params` instead.\n",
      "\n"
     ]
    },
    {
     "name": "stdout",
     "output_type": "stream",
     "text": [
      "SCORE:                                                                                                                                                                                                       \n",
      "9284.246969196833                                                                                                                                                                                            \n",
      " 67%|█████████████████████████████████████████████████████████████████████████████████████████▊                                            | 67/100 [06:20<03:36,  6.55s/trial, best loss: 9126.731357472836]"
     ]
    },
    {
     "name": "stderr",
     "output_type": "stream",
     "text": [
      "UserWarning: `eval_metric` in `fit` method is deprecated for better compatibility with scikit-learn, use `eval_metric` in constructor or`set_params` instead.\n",
      "\n",
      "UserWarning: `early_stopping_rounds` in `fit` method is deprecated for better compatibility with scikit-learn, use `early_stopping_rounds` in constructor or`set_params` instead.\n",
      "\n"
     ]
    },
    {
     "name": "stdout",
     "output_type": "stream",
     "text": [
      "SCORE:                                                                                                                                                                                                       \n",
      "9275.386754651536                                                                                                                                                                                            \n",
      " 68%|███████████████████████████████████████████████████████████████████████████████████████████                                           | 68/100 [06:27<03:31,  6.60s/trial, best loss: 9126.731357472836]"
     ]
    },
    {
     "name": "stderr",
     "output_type": "stream",
     "text": [
      "UserWarning: `eval_metric` in `fit` method is deprecated for better compatibility with scikit-learn, use `eval_metric` in constructor or`set_params` instead.\n",
      "\n",
      "UserWarning: `early_stopping_rounds` in `fit` method is deprecated for better compatibility with scikit-learn, use `early_stopping_rounds` in constructor or`set_params` instead.\n",
      "\n"
     ]
    },
    {
     "name": "stdout",
     "output_type": "stream",
     "text": [
      "SCORE:                                                                                                                                                                                                       \n",
      "9165.219737445406                                                                                                                                                                                            \n",
      " 69%|████████████████████████████████████████████████████████████████████████████████████████████▍                                         | 69/100 [06:35<03:33,  6.88s/trial, best loss: 9126.731357472836]"
     ]
    },
    {
     "name": "stderr",
     "output_type": "stream",
     "text": [
      "UserWarning: `eval_metric` in `fit` method is deprecated for better compatibility with scikit-learn, use `eval_metric` in constructor or`set_params` instead.\n",
      "\n",
      "UserWarning: `early_stopping_rounds` in `fit` method is deprecated for better compatibility with scikit-learn, use `early_stopping_rounds` in constructor or`set_params` instead.\n",
      "\n"
     ]
    },
    {
     "name": "stdout",
     "output_type": "stream",
     "text": [
      "SCORE:                                                                                                                                                                                                       \n",
      "9197.437885959162                                                                                                                                                                                            \n",
      " 70%|█████████████████████████████████████████████████████████████████████████████████████████████▊                                        | 70/100 [06:42<03:31,  7.06s/trial, best loss: 9126.731357472836]"
     ]
    },
    {
     "name": "stderr",
     "output_type": "stream",
     "text": [
      "UserWarning: `eval_metric` in `fit` method is deprecated for better compatibility with scikit-learn, use `eval_metric` in constructor or`set_params` instead.\n",
      "\n",
      "UserWarning: `early_stopping_rounds` in `fit` method is deprecated for better compatibility with scikit-learn, use `early_stopping_rounds` in constructor or`set_params` instead.\n",
      "\n"
     ]
    },
    {
     "name": "stdout",
     "output_type": "stream",
     "text": [
      "SCORE:                                                                                                                                                                                                       \n",
      "9315.101830019452                                                                                                                                                                                            \n",
      " 71%|███████████████████████████████████████████████████████████████████████████████████████████████▏                                      | 71/100 [06:50<03:35,  7.42s/trial, best loss: 9126.731357472836]"
     ]
    },
    {
     "name": "stderr",
     "output_type": "stream",
     "text": [
      "UserWarning: `eval_metric` in `fit` method is deprecated for better compatibility with scikit-learn, use `eval_metric` in constructor or`set_params` instead.\n",
      "\n",
      "UserWarning: `early_stopping_rounds` in `fit` method is deprecated for better compatibility with scikit-learn, use `early_stopping_rounds` in constructor or`set_params` instead.\n",
      "\n"
     ]
    },
    {
     "name": "stdout",
     "output_type": "stream",
     "text": [
      "SCORE:                                                                                                                                                                                                       \n",
      "9345.894105380135                                                                                                                                                                                            \n",
      " 72%|████████████████████████████████████████████████████████████████████████████████████████████████▍                                     | 72/100 [06:58<03:30,  7.53s/trial, best loss: 9126.731357472836]"
     ]
    },
    {
     "name": "stderr",
     "output_type": "stream",
     "text": [
      "UserWarning: `eval_metric` in `fit` method is deprecated for better compatibility with scikit-learn, use `eval_metric` in constructor or`set_params` instead.\n",
      "\n",
      "UserWarning: `early_stopping_rounds` in `fit` method is deprecated for better compatibility with scikit-learn, use `early_stopping_rounds` in constructor or`set_params` instead.\n",
      "\n"
     ]
    },
    {
     "name": "stdout",
     "output_type": "stream",
     "text": [
      "SCORE:                                                                                                                                                                                                       \n",
      "9482.174232157166                                                                                                                                                                                            \n",
      " 73%|█████████████████████████████████████████████████████████████████████████████████████████████████▊                                    | 73/100 [07:06<03:22,  7.50s/trial, best loss: 9126.731357472836]"
     ]
    },
    {
     "name": "stderr",
     "output_type": "stream",
     "text": [
      "UserWarning: `eval_metric` in `fit` method is deprecated for better compatibility with scikit-learn, use `eval_metric` in constructor or`set_params` instead.\n",
      "\n",
      "UserWarning: `early_stopping_rounds` in `fit` method is deprecated for better compatibility with scikit-learn, use `early_stopping_rounds` in constructor or`set_params` instead.\n",
      "\n"
     ]
    },
    {
     "name": "stdout",
     "output_type": "stream",
     "text": [
      "SCORE:                                                                                                                                                                                                       \n",
      "9518.820889164252                                                                                                                                                                                            \n",
      " 74%|███████████████████████████████████████████████████████████████████████████████████████████████████▏                                  | 74/100 [07:12<03:03,  7.07s/trial, best loss: 9126.731357472836]"
     ]
    },
    {
     "name": "stderr",
     "output_type": "stream",
     "text": [
      "UserWarning: `eval_metric` in `fit` method is deprecated for better compatibility with scikit-learn, use `eval_metric` in constructor or`set_params` instead.\n",
      "\n",
      "UserWarning: `early_stopping_rounds` in `fit` method is deprecated for better compatibility with scikit-learn, use `early_stopping_rounds` in constructor or`set_params` instead.\n",
      "\n"
     ]
    },
    {
     "name": "stdout",
     "output_type": "stream",
     "text": [
      "SCORE:                                                                                                                                                                                                       \n",
      "9269.965558871161                                                                                                                                                                                            \n",
      " 75%|████████████████████████████████████████████████████████████████████████████████████████████████████▌                                 | 75/100 [07:19<03:01,  7.27s/trial, best loss: 9126.731357472836]"
     ]
    },
    {
     "name": "stderr",
     "output_type": "stream",
     "text": [
      "UserWarning: `eval_metric` in `fit` method is deprecated for better compatibility with scikit-learn, use `eval_metric` in constructor or`set_params` instead.\n",
      "\n",
      "UserWarning: `early_stopping_rounds` in `fit` method is deprecated for better compatibility with scikit-learn, use `early_stopping_rounds` in constructor or`set_params` instead.\n",
      "\n"
     ]
    },
    {
     "name": "stdout",
     "output_type": "stream",
     "text": [
      "SCORE:                                                                                                                                                                                                       \n",
      "9268.217558239192                                                                                                                                                                                            \n",
      " 76%|█████████████████████████████████████████████████████████████████████████████████████████████████████▊                                | 76/100 [07:27<02:59,  7.47s/trial, best loss: 9126.731357472836]"
     ]
    },
    {
     "name": "stderr",
     "output_type": "stream",
     "text": [
      "UserWarning: `eval_metric` in `fit` method is deprecated for better compatibility with scikit-learn, use `eval_metric` in constructor or`set_params` instead.\n",
      "\n",
      "UserWarning: `early_stopping_rounds` in `fit` method is deprecated for better compatibility with scikit-learn, use `early_stopping_rounds` in constructor or`set_params` instead.\n",
      "\n"
     ]
    },
    {
     "name": "stdout",
     "output_type": "stream",
     "text": [
      "SCORE:                                                                                                                                                                                                       \n",
      "9310.157127623754                                                                                                                                                                                            \n",
      " 77%|███████████████████████████████████████████████████████████████████████████████████████████████████████▏                              | 77/100 [07:34<02:48,  7.33s/trial, best loss: 9126.731357472836]"
     ]
    },
    {
     "name": "stderr",
     "output_type": "stream",
     "text": [
      "UserWarning: `eval_metric` in `fit` method is deprecated for better compatibility with scikit-learn, use `eval_metric` in constructor or`set_params` instead.\n",
      "\n",
      "UserWarning: `early_stopping_rounds` in `fit` method is deprecated for better compatibility with scikit-learn, use `early_stopping_rounds` in constructor or`set_params` instead.\n",
      "\n"
     ]
    },
    {
     "name": "stdout",
     "output_type": "stream",
     "text": [
      "SCORE:                                                                                                                                                                                                       \n",
      "9336.85450500643                                                                                                                                                                                             \n",
      " 78%|████████████████████████████████████████████████████████████████████████████████████████████████████████▌                             | 78/100 [07:41<02:39,  7.26s/trial, best loss: 9126.731357472836]"
     ]
    },
    {
     "name": "stderr",
     "output_type": "stream",
     "text": [
      "UserWarning: `eval_metric` in `fit` method is deprecated for better compatibility with scikit-learn, use `eval_metric` in constructor or`set_params` instead.\n",
      "\n",
      "UserWarning: `early_stopping_rounds` in `fit` method is deprecated for better compatibility with scikit-learn, use `early_stopping_rounds` in constructor or`set_params` instead.\n",
      "\n"
     ]
    },
    {
     "name": "stdout",
     "output_type": "stream",
     "text": [
      "SCORE:                                                                                                                                                                                                       \n",
      "9884.756427930415                                                                                                                                                                                            \n",
      " 79%|█████████████████████████████████████████████████████████████████████████████████████████████████████████▊                            | 79/100 [07:49<02:32,  7.27s/trial, best loss: 9126.731357472836]"
     ]
    },
    {
     "name": "stderr",
     "output_type": "stream",
     "text": [
      "UserWarning: `eval_metric` in `fit` method is deprecated for better compatibility with scikit-learn, use `eval_metric` in constructor or`set_params` instead.\n",
      "\n",
      "UserWarning: `early_stopping_rounds` in `fit` method is deprecated for better compatibility with scikit-learn, use `early_stopping_rounds` in constructor or`set_params` instead.\n",
      "\n"
     ]
    },
    {
     "name": "stdout",
     "output_type": "stream",
     "text": [
      "SCORE:                                                                                                                                                                                                       \n",
      "9515.241361206494                                                                                                                                                                                            \n",
      " 80%|███████████████████████████████████████████████████████████████████████████████████████████████████████████▏                          | 80/100 [07:53<02:09,  6.50s/trial, best loss: 9126.731357472836]"
     ]
    },
    {
     "name": "stderr",
     "output_type": "stream",
     "text": [
      "UserWarning: `eval_metric` in `fit` method is deprecated for better compatibility with scikit-learn, use `eval_metric` in constructor or`set_params` instead.\n",
      "\n",
      "UserWarning: `early_stopping_rounds` in `fit` method is deprecated for better compatibility with scikit-learn, use `early_stopping_rounds` in constructor or`set_params` instead.\n",
      "\n"
     ]
    },
    {
     "name": "stdout",
     "output_type": "stream",
     "text": [
      "SCORE:                                                                                                                                                                                                       \n",
      "9208.227096414601                                                                                                                                                                                            \n",
      " 81%|████████████████████████████████████████████████████████████████████████████████████████████████████████████▌                         | 81/100 [08:02<02:12,  6.97s/trial, best loss: 9126.731357472836]"
     ]
    },
    {
     "name": "stderr",
     "output_type": "stream",
     "text": [
      "UserWarning: `eval_metric` in `fit` method is deprecated for better compatibility with scikit-learn, use `eval_metric` in constructor or`set_params` instead.\n",
      "\n",
      "UserWarning: `early_stopping_rounds` in `fit` method is deprecated for better compatibility with scikit-learn, use `early_stopping_rounds` in constructor or`set_params` instead.\n",
      "\n"
     ]
    },
    {
     "name": "stdout",
     "output_type": "stream",
     "text": [
      "SCORE:                                                                                                                                                                                                       \n",
      "9552.927203988858                                                                                                                                                                                            \n",
      " 82%|█████████████████████████████████████████████████████████████████████████████████████████████████████████████▉                        | 82/100 [08:06<01:51,  6.18s/trial, best loss: 9126.731357472836]"
     ]
    },
    {
     "name": "stderr",
     "output_type": "stream",
     "text": [
      "UserWarning: `eval_metric` in `fit` method is deprecated for better compatibility with scikit-learn, use `eval_metric` in constructor or`set_params` instead.\n",
      "\n",
      "UserWarning: `early_stopping_rounds` in `fit` method is deprecated for better compatibility with scikit-learn, use `early_stopping_rounds` in constructor or`set_params` instead.\n",
      "\n"
     ]
    },
    {
     "name": "stdout",
     "output_type": "stream",
     "text": [
      "SCORE:                                                                                                                                                                                                       \n",
      "9283.782278112833                                                                                                                                                                                            \n",
      " 83%|███████████████████████████████████████████████████████████████████████████████████████████████████████████████▏                      | 83/100 [08:14<01:54,  6.71s/trial, best loss: 9126.731357472836]"
     ]
    },
    {
     "name": "stderr",
     "output_type": "stream",
     "text": [
      "UserWarning: `eval_metric` in `fit` method is deprecated for better compatibility with scikit-learn, use `eval_metric` in constructor or`set_params` instead.\n",
      "\n",
      "UserWarning: `early_stopping_rounds` in `fit` method is deprecated for better compatibility with scikit-learn, use `early_stopping_rounds` in constructor or`set_params` instead.\n",
      "\n"
     ]
    },
    {
     "name": "stdout",
     "output_type": "stream",
     "text": [
      "SCORE:                                                                                                                                                                                                       \n",
      "9460.627629846304                                                                                                                                                                                            \n",
      " 84%|████████████████████████████████████████████████████████████████████████████████████████████████████████████████▌                     | 84/100 [08:19<01:41,  6.34s/trial, best loss: 9126.731357472836]"
     ]
    },
    {
     "name": "stderr",
     "output_type": "stream",
     "text": [
      "UserWarning: `eval_metric` in `fit` method is deprecated for better compatibility with scikit-learn, use `eval_metric` in constructor or`set_params` instead.\n",
      "\n",
      "UserWarning: `early_stopping_rounds` in `fit` method is deprecated for better compatibility with scikit-learn, use `early_stopping_rounds` in constructor or`set_params` instead.\n",
      "\n"
     ]
    },
    {
     "name": "stdout",
     "output_type": "stream",
     "text": [
      "SCORE:                                                                                                                                                                                                       \n",
      "9492.28888738777                                                                                                                                                                                             \n",
      " 85%|█████████████████████████████████████████████████████████████████████████████████████████████████████████████████▉                    | 85/100 [08:26<01:38,  6.55s/trial, best loss: 9126.731357472836]"
     ]
    },
    {
     "name": "stderr",
     "output_type": "stream",
     "text": [
      "UserWarning: `eval_metric` in `fit` method is deprecated for better compatibility with scikit-learn, use `eval_metric` in constructor or`set_params` instead.\n",
      "\n",
      "UserWarning: `early_stopping_rounds` in `fit` method is deprecated for better compatibility with scikit-learn, use `early_stopping_rounds` in constructor or`set_params` instead.\n",
      "\n"
     ]
    },
    {
     "name": "stdout",
     "output_type": "stream",
     "text": [
      "SCORE:                                                                                                                                                                                                       \n",
      "9535.691956185949                                                                                                                                                                                            \n",
      " 86%|███████████████████████████████████████████████████████████████████████████████████████████████████████████████████▏                  | 86/100 [08:33<01:32,  6.59s/trial, best loss: 9126.731357472836]"
     ]
    },
    {
     "name": "stderr",
     "output_type": "stream",
     "text": [
      "UserWarning: `eval_metric` in `fit` method is deprecated for better compatibility with scikit-learn, use `eval_metric` in constructor or`set_params` instead.\n",
      "\n",
      "UserWarning: `early_stopping_rounds` in `fit` method is deprecated for better compatibility with scikit-learn, use `early_stopping_rounds` in constructor or`set_params` instead.\n",
      "\n"
     ]
    },
    {
     "name": "stdout",
     "output_type": "stream",
     "text": [
      "SCORE:                                                                                                                                                                                                       \n",
      "9554.232134893962                                                                                                                                                                                            \n",
      " 87%|████████████████████████████████████████████████████████████████████████████████████████████████████████████████████▌                 | 87/100 [08:37<01:15,  5.82s/trial, best loss: 9126.731357472836]"
     ]
    },
    {
     "name": "stderr",
     "output_type": "stream",
     "text": [
      "UserWarning: `eval_metric` in `fit` method is deprecated for better compatibility with scikit-learn, use `eval_metric` in constructor or`set_params` instead.\n",
      "\n",
      "UserWarning: `early_stopping_rounds` in `fit` method is deprecated for better compatibility with scikit-learn, use `early_stopping_rounds` in constructor or`set_params` instead.\n",
      "\n"
     ]
    },
    {
     "name": "stdout",
     "output_type": "stream",
     "text": [
      "SCORE:                                                                                                                                                                                                       \n",
      "9814.32430711117                                                                                                                                                                                             \n",
      " 88%|█████████████████████████████████████████████████████████████████████████████████████████████████████████████████████▉                | 88/100 [08:39<00:57,  4.77s/trial, best loss: 9126.731357472836]"
     ]
    },
    {
     "name": "stderr",
     "output_type": "stream",
     "text": [
      "UserWarning: `eval_metric` in `fit` method is deprecated for better compatibility with scikit-learn, use `eval_metric` in constructor or`set_params` instead.\n",
      "\n",
      "UserWarning: `early_stopping_rounds` in `fit` method is deprecated for better compatibility with scikit-learn, use `early_stopping_rounds` in constructor or`set_params` instead.\n",
      "\n"
     ]
    },
    {
     "name": "stdout",
     "output_type": "stream",
     "text": [
      "SCORE:                                                                                                                                                                                                       \n",
      "9425.725368785872                                                                                                                                                                                            \n",
      " 89%|███████████████████████████████████████████████████████████████████████████████████████████████████████████████████████▎              | 89/100 [08:46<00:58,  5.29s/trial, best loss: 9126.731357472836]"
     ]
    },
    {
     "name": "stderr",
     "output_type": "stream",
     "text": [
      "UserWarning: `eval_metric` in `fit` method is deprecated for better compatibility with scikit-learn, use `eval_metric` in constructor or`set_params` instead.\n",
      "\n",
      "UserWarning: `early_stopping_rounds` in `fit` method is deprecated for better compatibility with scikit-learn, use `early_stopping_rounds` in constructor or`set_params` instead.\n",
      "\n"
     ]
    },
    {
     "name": "stdout",
     "output_type": "stream",
     "text": [
      "SCORE:                                                                                                                                                                                                       \n",
      "9759.239815357312                                                                                                                                                                                            \n",
      " 90%|████████████████████████████████████████████████████████████████████████████████████████████████████████████████████████▌             | 90/100 [08:49<00:47,  4.78s/trial, best loss: 9126.731357472836]"
     ]
    },
    {
     "name": "stderr",
     "output_type": "stream",
     "text": [
      "UserWarning: `eval_metric` in `fit` method is deprecated for better compatibility with scikit-learn, use `eval_metric` in constructor or`set_params` instead.\n",
      "\n",
      "UserWarning: `early_stopping_rounds` in `fit` method is deprecated for better compatibility with scikit-learn, use `early_stopping_rounds` in constructor or`set_params` instead.\n",
      "\n"
     ]
    },
    {
     "name": "stdout",
     "output_type": "stream",
     "text": [
      "SCORE:                                                                                                                                                                                                       \n",
      "9703.36882630763                                                                                                                                                                                             \n",
      " 91%|█████████████████████████████████████████████████████████████████████████████████████████████████████████████████████████▉            | 91/100 [08:55<00:44,  4.92s/trial, best loss: 9126.731357472836]"
     ]
    },
    {
     "name": "stderr",
     "output_type": "stream",
     "text": [
      "UserWarning: `eval_metric` in `fit` method is deprecated for better compatibility with scikit-learn, use `eval_metric` in constructor or`set_params` instead.\n",
      "\n",
      "UserWarning: `early_stopping_rounds` in `fit` method is deprecated for better compatibility with scikit-learn, use `early_stopping_rounds` in constructor or`set_params` instead.\n",
      "\n"
     ]
    },
    {
     "name": "stdout",
     "output_type": "stream",
     "text": [
      "SCORE:                                                                                                                                                                                                       \n",
      "9737.911892958593                                                                                                                                                                                            \n",
      " 92%|███████████████████████████████████████████████████████████████████████████████████████████████████████████████████████████▎          | 92/100 [09:01<00:42,  5.26s/trial, best loss: 9126.731357472836]"
     ]
    },
    {
     "name": "stderr",
     "output_type": "stream",
     "text": [
      "UserWarning: `eval_metric` in `fit` method is deprecated for better compatibility with scikit-learn, use `eval_metric` in constructor or`set_params` instead.\n",
      "\n",
      "UserWarning: `early_stopping_rounds` in `fit` method is deprecated for better compatibility with scikit-learn, use `early_stopping_rounds` in constructor or`set_params` instead.\n",
      "\n"
     ]
    },
    {
     "name": "stdout",
     "output_type": "stream",
     "text": [
      "SCORE:                                                                                                                                                                                                       \n",
      "9361.60319528541                                                                                                                                                                                             \n",
      " 93%|████████████████████████████████████████████████████████████████████████████████████████████████████████████████████████████▌         | 93/100 [09:09<00:43,  6.16s/trial, best loss: 9126.731357472836]"
     ]
    },
    {
     "name": "stderr",
     "output_type": "stream",
     "text": [
      "UserWarning: `eval_metric` in `fit` method is deprecated for better compatibility with scikit-learn, use `eval_metric` in constructor or`set_params` instead.\n",
      "\n",
      "UserWarning: `early_stopping_rounds` in `fit` method is deprecated for better compatibility with scikit-learn, use `early_stopping_rounds` in constructor or`set_params` instead.\n",
      "\n"
     ]
    },
    {
     "name": "stdout",
     "output_type": "stream",
     "text": [
      "SCORE:                                                                                                                                                                                                       \n",
      "9426.601527563675                                                                                                                                                                                            \n",
      " 94%|█████████████████████████████████████████████████████████████████████████████████████████████████████████████████████████████▉        | 94/100 [09:16<00:38,  6.46s/trial, best loss: 9126.731357472836]"
     ]
    },
    {
     "name": "stderr",
     "output_type": "stream",
     "text": [
      "UserWarning: `eval_metric` in `fit` method is deprecated for better compatibility with scikit-learn, use `eval_metric` in constructor or`set_params` instead.\n",
      "\n",
      "UserWarning: `early_stopping_rounds` in `fit` method is deprecated for better compatibility with scikit-learn, use `early_stopping_rounds` in constructor or`set_params` instead.\n",
      "\n"
     ]
    },
    {
     "name": "stdout",
     "output_type": "stream",
     "text": [
      "SCORE:                                                                                                                                                                                                       \n",
      "9646.09563505327                                                                                                                                                                                             \n",
      " 95%|███████████████████████████████████████████████████████████████████████████████████████████████████████████████████████████████▎      | 95/100 [09:21<00:30,  6.05s/trial, best loss: 9126.731357472836]"
     ]
    },
    {
     "name": "stderr",
     "output_type": "stream",
     "text": [
      "UserWarning: `eval_metric` in `fit` method is deprecated for better compatibility with scikit-learn, use `eval_metric` in constructor or`set_params` instead.\n",
      "\n",
      "UserWarning: `early_stopping_rounds` in `fit` method is deprecated for better compatibility with scikit-learn, use `early_stopping_rounds` in constructor or`set_params` instead.\n",
      "\n"
     ]
    },
    {
     "name": "stdout",
     "output_type": "stream",
     "text": [
      "SCORE:                                                                                                                                                                                                       \n",
      "9228.149696624196                                                                                                                                                                                            \n",
      " 96%|████████████████████████████████████████████████████████████████████████████████████████████████████████████████████████████████▋     | 96/100 [09:29<00:26,  6.57s/trial, best loss: 9126.731357472836]"
     ]
    },
    {
     "name": "stderr",
     "output_type": "stream",
     "text": [
      "UserWarning: `eval_metric` in `fit` method is deprecated for better compatibility with scikit-learn, use `eval_metric` in constructor or`set_params` instead.\n",
      "\n",
      "UserWarning: `early_stopping_rounds` in `fit` method is deprecated for better compatibility with scikit-learn, use `early_stopping_rounds` in constructor or`set_params` instead.\n",
      "\n"
     ]
    },
    {
     "name": "stdout",
     "output_type": "stream",
     "text": [
      "SCORE:                                                                                                                                                                                                       \n",
      "9376.101635000206                                                                                                                                                                                            \n",
      " 97%|█████████████████████████████████████████████████████████████████████████████████████████████████████████████████████████████████▉    | 97/100 [09:35<00:19,  6.48s/trial, best loss: 9126.731357472836]"
     ]
    },
    {
     "name": "stderr",
     "output_type": "stream",
     "text": [
      "UserWarning: `eval_metric` in `fit` method is deprecated for better compatibility with scikit-learn, use `eval_metric` in constructor or`set_params` instead.\n",
      "\n",
      "UserWarning: `early_stopping_rounds` in `fit` method is deprecated for better compatibility with scikit-learn, use `early_stopping_rounds` in constructor or`set_params` instead.\n",
      "\n"
     ]
    },
    {
     "name": "stdout",
     "output_type": "stream",
     "text": [
      "SCORE:                                                                                                                                                                                                       \n",
      "9735.406148466996                                                                                                                                                                                            \n",
      " 98%|███████████████████████████████████████████████████████████████████████████████████████████████████████████████████████████████████▎  | 98/100 [09:39<00:11,  5.55s/trial, best loss: 9126.731357472836]"
     ]
    },
    {
     "name": "stderr",
     "output_type": "stream",
     "text": [
      "UserWarning: `eval_metric` in `fit` method is deprecated for better compatibility with scikit-learn, use `eval_metric` in constructor or`set_params` instead.\n",
      "\n",
      "UserWarning: `early_stopping_rounds` in `fit` method is deprecated for better compatibility with scikit-learn, use `early_stopping_rounds` in constructor or`set_params` instead.\n",
      "\n"
     ]
    },
    {
     "name": "stdout",
     "output_type": "stream",
     "text": [
      "SCORE:                                                                                                                                                                                                       \n",
      "9230.7903353207                                                                                                                                                                                              \n",
      " 99%|████████████████████████████████████████████████████████████████████████████████████████████████████████████████████████████████████▋ | 99/100 [09:47<00:06,  6.43s/trial, best loss: 9126.731357472836]"
     ]
    },
    {
     "name": "stderr",
     "output_type": "stream",
     "text": [
      "UserWarning: `eval_metric` in `fit` method is deprecated for better compatibility with scikit-learn, use `eval_metric` in constructor or`set_params` instead.\n",
      "\n",
      "UserWarning: `early_stopping_rounds` in `fit` method is deprecated for better compatibility with scikit-learn, use `early_stopping_rounds` in constructor or`set_params` instead.\n",
      "\n"
     ]
    },
    {
     "name": "stdout",
     "output_type": "stream",
     "text": [
      "SCORE:                                                                                                                                                                                                       \n",
      "9283.638223818516                                                                                                                                                                                            \n",
      "100%|█████████████████████████████████████████████████████████████████████████████████████████████████████████████████████████████████████| 100/100 [09:54<00:00,  5.95s/trial, best loss: 9126.731357472836]\n",
      "The best hyperparameters are :  \n",
      "\n",
      "{'colsample_bytree': 0.017096957476063657, 'eta': 0.10995628624241048, 'gamma': 2.7164695343586462, 'max_depth': 17.0, 'min_child_weight': 6.0, 'n_estimators': 250.0, 'reg_alpha': 157.0, 'reg_lambda': 0.31324617454119197, 'subsample': 0.9699964119114762}\n"
     ]
    }
   ],
   "source": [
    "space={'max_depth': hp.quniform(\"max_depth\", 3, 18, 1),\n",
    "        'gamma': hp.uniform ('gamma', 1,9),\n",
    "        'reg_alpha' : hp.quniform('reg_alpha', 40, 180,1),\n",
    "        'reg_lambda' : hp.uniform('reg_lambda', 0.01, 0.99),\n",
    "        'colsample_bytree' : hp.uniform('colsample_bytree', 0.01,0.8),\n",
    "        'min_child_weight' : hp.quniform('min_child_weight', 0, 10, 1),\n",
    "        'eta': hp.uniform('eta', 0.01, 0.11),\n",
    "        'n_estimators': hp.quniform('n_estimators', 50, 250, 1),\n",
    "        'subsample': hp.uniform('subsample', 0.01, 0.99),\n",
    "        'seed': 0\n",
    "    }\n",
    "\n",
    "def objective(space):\n",
    "    clf=XGBRegressor(\n",
    "                    n_estimators = int(space['n_estimators']), max_depth = int(space['max_depth']), gamma = space['gamma'],\n",
    "                    reg_alpha = int(space['reg_alpha']),min_child_weight=int(space['min_child_weight']),\n",
    "                    colsample_bytree=int(space['colsample_bytree']), eta=space['eta'],\n",
    "                    reg_lambda = space['reg_lambda'], subsample = space['subsample'],\n",
    "    early_stopping_rounds = 20)\n",
    "    \n",
    "    evaluation = [( x_train, y_train), (x_test, y_test)]\n",
    "    \n",
    "    clf.fit(x_train, y_train,\n",
    "            eval_set=evaluation, eval_metric='logloss',verbose=False)\n",
    "    \n",
    "\n",
    "    pred = clf.predict(x_test)\n",
    "    accuracy = mean_squared_error(y_test, pred)\n",
    "    print(\"SCORE:\", np.sqrt(accuracy))\n",
    "    return {'loss': np.sqrt(accuracy), 'status': STATUS_OK }\n",
    "\n",
    "trials = Trials()\n",
    "\n",
    "best_hyperparams = fmin(fn = objective,\n",
    "                        space = space,\n",
    "                        algo = tpe.suggest,\n",
    "                        max_evals = 100,\n",
    "                        trials = trials)\n",
    "\n",
    "print(\"The best hyperparameters are : \",\"\\n\")\n",
    "print(best_hyperparams)"
   ]
  },
  {
   "cell_type": "code",
   "execution_count": 72,
   "id": "20d22364",
   "metadata": {},
   "outputs": [
    {
     "data": {
      "text/plain": [
       "XGBRegressor(base_score=0.5, booster='gbtree', callbacks=None,\n",
       "             colsample_bylevel=1, colsample_bynode=1,\n",
       "             colsample_bytree=0.017096957476063657, early_stopping_rounds=None,\n",
       "             enable_categorical=False, eta=0.10995628624241048,\n",
       "             eval_metric=None, gamma=2.7164695343586462, gpu_id=-1,\n",
       "             grow_policy='depthwise', importance_type=None,\n",
       "             interaction_constraints='', learning_rate=0.109956287, max_bin=256,\n",
       "             max_cat_to_onehot=4, max_delta_step=0, max_depth=40, max_leaves=0,\n",
       "             min_child_weight=6, missing=nan, monotone_constraints='()',\n",
       "             n_estimators=500, n_jobs=0, num_parallel_tree=1, predictor='auto',\n",
       "             random_state=0, reg_alpha=157, ...)"
      ]
     },
     "execution_count": 72,
     "metadata": {},
     "output_type": "execute_result"
    }
   ],
   "source": [
    "params = {\n",
    "    'colsample_bytree': 0.017096957476063657, \n",
    "    'eta': 0.10995628624241048, \n",
    "    'gamma': 2.7164695343586462, \n",
    "    'max_depth': int(40.0), \n",
    "    'min_child_weight': int(6.0), \n",
    "    'n_estimators': int(500.0), \n",
    "    'reg_alpha': int(157.0), \n",
    "    'reg_lambda': 0.31324617454119197, \n",
    "    'subsample': 0.9699964119114762\n",
    "}\n",
    "model = XGBRegressor(**params)\n",
    "model.fit(x_train, y_train)"
   ]
  },
  {
   "cell_type": "code",
   "execution_count": 73,
   "id": "9c959b02",
   "metadata": {},
   "outputs": [],
   "source": [
    "pred_xgb = model.predict(test_x)"
   ]
  },
  {
   "cell_type": "code",
   "execution_count": 74,
   "id": "b841b7de",
   "metadata": {},
   "outputs": [
    {
     "name": "stdout",
     "output_type": "stream",
     "text": [
      "MSE:  7964.541039508599\n",
      "R^2:  -2.7019461551781934\n"
     ]
    }
   ],
   "source": [
    "MSE = mean_squared_error(pred_xgb, test_y)\n",
    "r2 = r2_score(pred_xgb, test_y)\n",
    "\n",
    "print(\"MSE: \", np.sqrt(MSE))\n",
    "print(\"R^2: \", r2)"
   ]
  },
  {
   "cell_type": "markdown",
   "id": "82300bdd",
   "metadata": {},
   "source": [
    "# Predictions"
   ]
  },
  {
   "cell_type": "code",
   "execution_count": 150,
   "id": "af706bdb",
   "metadata": {},
   "outputs": [],
   "source": [
    "#data_test = data_test[(data.index >= \"2022-05-20 11:00:00.000\")]\n",
    "test_y = test_data['transactionLocal_VAT_beforeDiscount']\n",
    "test_x = test_data.drop(['transactionLocal_VAT_beforeDiscount'], axis = 1)"
   ]
  },
  {
   "cell_type": "code",
   "execution_count": 151,
   "id": "5f959f01",
   "metadata": {},
   "outputs": [],
   "source": [
    "pred_xgb = model.predict(test_x)"
   ]
  },
  {
   "cell_type": "code",
   "execution_count": 152,
   "id": "b94c0422",
   "metadata": {},
   "outputs": [
    {
     "name": "stdout",
     "output_type": "stream",
     "text": [
      "MSE:  6852.2128127426295\n",
      "R^2:  0.14974824775741657\n"
     ]
    }
   ],
   "source": [
    "MSE = mean_squared_error(pred_xgb, test_y)\n",
    "r2 = r2_score(pred_xgb, test_y)\n",
    "\n",
    "print(\"MSE: \", np.sqrt(MSE))\n",
    "print(\"R^2: \", r2)"
   ]
  },
  {
   "cell_type": "code",
   "execution_count": 153,
   "id": "c7ac4975",
   "metadata": {},
   "outputs": [],
   "source": [
    "def pred_to_output(df_preds):\n",
    "    df_output = df_preds.rename(columns=lambda x: re.sub('global_venueName_Venue','Venue', x))\n",
    "    df_output[\"transaction_hour\"] = pd.to_datetime(df_output[\"transaction_hour\"])\n",
    "    df1 = df_output[[\"transaction_hour\", \"Venue 26\", \"Venue 32\", \"Venue 35\", \"Venue 19\", \"Venue 15\", \"predictions\"]]\n",
    "\n",
    "\n",
    "    df1[\"rekom_date\"] = df1[\"transaction_hour\"].dt.date\n",
    "\n",
    "\n",
    "\n",
    "    df1[\"Venue 26\"].replace(1, \"Venue 26\", inplace = True)\n",
    "    df1[\"Venue 26\"].replace(0, \"\", inplace = True)\n",
    "\n",
    "\n",
    "    df1[\"Venue 32\"].replace(1, \"Venue 32\", inplace = True)\n",
    "    df1[\"Venue 32\"].replace(0, \"\", inplace = True)\n",
    "\n",
    "\n",
    "    df1[\"Venue 35\"].replace(1, \"Venue 35\", inplace = True)\n",
    "    df1[\"Venue 35\"].replace(0, \"\", inplace = True)\n",
    "\n",
    "\n",
    "    df1[\"Venue 19\"].replace(1, \"Venue 19\", inplace = True)\n",
    "    df1[\"Venue 19\"].replace(0, \"\", inplace = True)\n",
    "\n",
    "\n",
    "    df1[\"Venue 15\"].replace(1, \"Venue 15\", inplace = True)\n",
    "    df1[\"Venue 15\"].replace(0, \"\", inplace = True)\n",
    "\n",
    "\n",
    "\n",
    "\n",
    "    df1[\"venueName\"] = df1[\"Venue 26\"] + df1[\"Venue 32\"] + df1[\"Venue 35\"] + df1[\"Venue 19\"] + df1[\"Venue 15\"]\n",
    "\n",
    "\n",
    "\n",
    "\n",
    "    df1 = df1[df1[\"venueName\"] != \"\"]\n",
    "\n",
    "\n",
    "    df_final = df1[[\"rekom_date\", \"transaction_hour\", \"venueName\", \"predictions\"]]\n",
    "    df_final[\"team\"] = \"TEAM 3\"\n",
    "    df_final.rename(columns = {\"predictions\": \"transactionLocal_VAT_beforeDiscount_prediction\"}, inplace = True)\n",
    "    df_final = df_final[[\"rekom_date\", \"transaction_hour\", \"venueName\", \"team\", \"transactionLocal_VAT_beforeDiscount_prediction\"]]\n",
    "    \n",
    "    return df_final"
   ]
  },
  {
   "cell_type": "code",
   "execution_count": 154,
   "id": "11615429",
   "metadata": {},
   "outputs": [
    {
     "name": "stderr",
     "output_type": "stream",
     "text": [
      "SettingWithCopyWarning: \n",
      "A value is trying to be set on a copy of a slice from a DataFrame.\n",
      "Try using .loc[row_indexer,col_indexer] = value instead\n",
      "\n",
      "See the caveats in the documentation: https://pandas.pydata.org/pandas-docs/stable/user_guide/indexing.html#returning-a-view-versus-a-copy\n",
      "SettingWithCopyWarning: \n",
      "A value is trying to be set on a copy of a slice from a DataFrame\n",
      "\n",
      "See the caveats in the documentation: https://pandas.pydata.org/pandas-docs/stable/user_guide/indexing.html#returning-a-view-versus-a-copy\n",
      "SettingWithCopyWarning: \n",
      "A value is trying to be set on a copy of a slice from a DataFrame\n",
      "\n",
      "See the caveats in the documentation: https://pandas.pydata.org/pandas-docs/stable/user_guide/indexing.html#returning-a-view-versus-a-copy\n",
      "SettingWithCopyWarning: \n",
      "A value is trying to be set on a copy of a slice from a DataFrame\n",
      "\n",
      "See the caveats in the documentation: https://pandas.pydata.org/pandas-docs/stable/user_guide/indexing.html#returning-a-view-versus-a-copy\n",
      "SettingWithCopyWarning: \n",
      "A value is trying to be set on a copy of a slice from a DataFrame\n",
      "\n",
      "See the caveats in the documentation: https://pandas.pydata.org/pandas-docs/stable/user_guide/indexing.html#returning-a-view-versus-a-copy\n",
      "SettingWithCopyWarning: \n",
      "A value is trying to be set on a copy of a slice from a DataFrame\n",
      "\n",
      "See the caveats in the documentation: https://pandas.pydata.org/pandas-docs/stable/user_guide/indexing.html#returning-a-view-versus-a-copy\n",
      "SettingWithCopyWarning: \n",
      "A value is trying to be set on a copy of a slice from a DataFrame\n",
      "\n",
      "See the caveats in the documentation: https://pandas.pydata.org/pandas-docs/stable/user_guide/indexing.html#returning-a-view-versus-a-copy\n",
      "SettingWithCopyWarning: \n",
      "A value is trying to be set on a copy of a slice from a DataFrame\n",
      "\n",
      "See the caveats in the documentation: https://pandas.pydata.org/pandas-docs/stable/user_guide/indexing.html#returning-a-view-versus-a-copy\n",
      "SettingWithCopyWarning: \n",
      "A value is trying to be set on a copy of a slice from a DataFrame\n",
      "\n",
      "See the caveats in the documentation: https://pandas.pydata.org/pandas-docs/stable/user_guide/indexing.html#returning-a-view-versus-a-copy\n",
      "SettingWithCopyWarning: \n",
      "A value is trying to be set on a copy of a slice from a DataFrame\n",
      "\n",
      "See the caveats in the documentation: https://pandas.pydata.org/pandas-docs/stable/user_guide/indexing.html#returning-a-view-versus-a-copy\n",
      "SettingWithCopyWarning: \n",
      "A value is trying to be set on a copy of a slice from a DataFrame\n",
      "\n",
      "See the caveats in the documentation: https://pandas.pydata.org/pandas-docs/stable/user_guide/indexing.html#returning-a-view-versus-a-copy\n",
      "SettingWithCopyWarning: \n",
      "A value is trying to be set on a copy of a slice from a DataFrame.\n",
      "Try using .loc[row_indexer,col_indexer] = value instead\n",
      "\n",
      "See the caveats in the documentation: https://pandas.pydata.org/pandas-docs/stable/user_guide/indexing.html#returning-a-view-versus-a-copy\n",
      "SettingWithCopyWarning: \n",
      "A value is trying to be set on a copy of a slice from a DataFrame.\n",
      "Try using .loc[row_indexer,col_indexer] = value instead\n",
      "\n",
      "See the caveats in the documentation: https://pandas.pydata.org/pandas-docs/stable/user_guide/indexing.html#returning-a-view-versus-a-copy\n",
      "SettingWithCopyWarning: \n",
      "A value is trying to be set on a copy of a slice from a DataFrame\n",
      "\n",
      "See the caveats in the documentation: https://pandas.pydata.org/pandas-docs/stable/user_guide/indexing.html#returning-a-view-versus-a-copy\n"
     ]
    }
   ],
   "source": [
    "import re\n",
    "\n",
    "test_x['predictions'] = pred_xgb\n",
    "test_x['transaction_hour'] = test_x.index\n",
    "pred_to_output(test_x).to_csv(\"Final_predictions_team3.csv\")"
   ]
  },
  {
   "cell_type": "code",
   "execution_count": null,
   "id": "47cf8b52",
   "metadata": {},
   "outputs": [],
   "source": [
    "from sklearn.model_selection import TimeSeriesSplit\n",
    "K1 = 5\n",
    "\n",
    "\n",
    "RMSE = []\n",
    "tscv = TimeSeriesSplit(n_splits = K1)\n",
    "\n",
    "\n",
    "for train_index, test_index in tscv.split(X,y):\n",
    "    Xtrain = X[train_index]\n",
    "    Xtest = X[test_index]\n",
    "    ytrain = y[train_index]\n",
    "    ytest = y[test_index]\n",
    "        \n",
    "    RFR = RandomForestRegressor(n_estimators = 100, criterion = \"squared_error\", min_samples_split = 10, min_samples_leaf = 2)\n",
    "    RFR.fit(Xtrain,ytrain)\n",
    "    preds = RFR.predict(Xtest)\n",
    "    \n",
    "    RMSE.append(np.sqrt(mean_squared_error(ytest, preds)))\n",
    "\n"
   ]
  },
  {
   "cell_type": "code",
   "execution_count": null,
   "id": "100e7e51",
   "metadata": {},
   "outputs": [],
   "source": []
  }
 ],
 "metadata": {
  "kernelspec": {
   "display_name": "Python 3 (ipykernel)",
   "language": "python",
   "name": "python3"
  },
  "language_info": {
   "codemirror_mode": {
    "name": "ipython",
    "version": 3
   },
   "file_extension": ".py",
   "mimetype": "text/x-python",
   "name": "python",
   "nbconvert_exporter": "python",
   "pygments_lexer": "ipython3",
   "version": "3.10.4"
  }
 },
 "nbformat": 4,
 "nbformat_minor": 5
}
